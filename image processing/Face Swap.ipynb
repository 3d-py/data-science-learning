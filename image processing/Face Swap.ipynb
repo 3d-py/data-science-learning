{
 "cells": [
  {
   "cell_type": "markdown",
   "metadata": {
    "toc": true
   },
   "source": [
    "<h1>Table of Contents<span class=\"tocSkip\"></span></h1>\n",
    "<div class=\"toc\" style=\"margin-top: 1em;\"><ul class=\"toc-item\"><li><span><a href=\"#Intro\" data-toc-modified-id=\"Intro-1\"><span class=\"toc-item-num\">1&nbsp;&nbsp;</span>Intro</a></span></li><li><span><a href=\"#Load-Data\" data-toc-modified-id=\"Load-Data-2\"><span class=\"toc-item-num\">2&nbsp;&nbsp;</span>Load Data</a></span></li><li><span><a href=\"#Face-Alignment\" data-toc-modified-id=\"Face-Alignment-3\"><span class=\"toc-item-num\">3&nbsp;&nbsp;</span>Face Alignment</a></span><ul class=\"toc-item\"><li><span><a href=\"#Landmark-Detection\" data-toc-modified-id=\"Landmark-Detection-3.1\"><span class=\"toc-item-num\">3.1&nbsp;&nbsp;</span>Landmark Detection</a></span></li><li><span><a href=\"#Find-Convex-Hull\" data-toc-modified-id=\"Find-Convex-Hull-3.2\"><span class=\"toc-item-num\">3.2&nbsp;&nbsp;</span>Find Convex Hull</a></span></li><li><span><a href=\"#Delaunay-Triangulation\" data-toc-modified-id=\"Delaunay-Triangulation-3.3\"><span class=\"toc-item-num\">3.3&nbsp;&nbsp;</span>Delaunay Triangulation</a></span><ul class=\"toc-item\"><li><span><a href=\"#Plot-Triangulation\" data-toc-modified-id=\"Plot-Triangulation-3.3.1\"><span class=\"toc-item-num\">3.3.1&nbsp;&nbsp;</span>Plot Triangulation</a></span></li></ul></li><li><span><a href=\"#Affine-warp-triangles\" data-toc-modified-id=\"Affine-warp-triangles-3.4\"><span class=\"toc-item-num\">3.4&nbsp;&nbsp;</span>Affine warp triangles</a></span></li></ul></li><li><span><a href=\"#Seamless-Cloning\" data-toc-modified-id=\"Seamless-Cloning-4\"><span class=\"toc-item-num\">4&nbsp;&nbsp;</span>Seamless Cloning</a></span></li></ul></div>"
   ]
  },
  {
   "cell_type": "markdown",
   "metadata": {},
   "source": [
    "# Intro\n",
    "Notebook exploring face-swap in Python.\n",
    "\n",
    "Resources:\n",
    "* [Face Swap using OpenCV](https://www.learnopencv.com/face-swap-using-opencv-c-python/)\n",
    "* [How to install dlib](https://www.pyimagesearch.com/2017/03/27/how-to-install-dlib/)\n",
    "* [Detect eyes, nose, lips, and jaw with dlib, OpenCV, and Python](https://www.pyimagesearch.com/2017/04/10/detect-eyes-nose-lips-jaw-dlib-opencv-python/)"
   ]
  },
  {
   "cell_type": "code",
   "execution_count": null,
   "metadata": {
    "collapsed": true
   },
   "outputs": [],
   "source": [
    "import numpy as np\n",
    "import pandas as pd\n",
    "import seaborn as sns\n",
    "import matplotlib.pyplot as plt\n",
    "\n",
    "import os\n",
    "from os.path import join\n",
    "import sys\n",
    "\n",
    "import dlib\n",
    "import cv2\n",
    "\n",
    "# Plotting\n",
    "#%matplotlib notebook\n",
    "%matplotlib inline\n",
    "\n",
    "sns.set_context(\"paper\")\n",
    "sns.set_style(\"dark\")\n",
    "\n",
    "from face_swap import utils\n",
    "\n",
    "%load_ext autoreload\n",
    "%autoreload 2"
   ]
  },
  {
   "cell_type": "code",
   "execution_count": null,
   "metadata": {
    "collapsed": true
   },
   "outputs": [],
   "source": [
    "data_folder = \"/datasets/\""
   ]
  },
  {
   "cell_type": "markdown",
   "metadata": {},
   "source": [
    "# Load Data"
   ]
  },
  {
   "cell_type": "code",
   "execution_count": null,
   "metadata": {},
   "outputs": [],
   "source": [
    "# Load two random celeba faces\n",
    "from_face = cv2.cvtColor(cv2.imread(join(data_folder, \"img_align_celeba\", \n",
    "                            \"000{}{}{}.jpg\".format(*np.random.randint(0, 9, 3)))),\n",
    "                             cv2.COLOR_BGR2RGB)\n",
    "to_face = cv2.cvtColor(cv2.imread(join(data_folder, \"img_align_celeba\", \n",
    "                          \"000{}{}{}.jpg\".format(*np.random.randint(0, 9, 3)))),\n",
    "                       cv2.COLOR_BGR2RGB)"
   ]
  },
  {
   "cell_type": "code",
   "execution_count": null,
   "metadata": {
    "collapsed": true
   },
   "outputs": [],
   "source": [
    "# Load faces with open-cv\n",
    "from_face = cv2.cvtColor(cv2.imread(join(data_folder, \"face_swap\", \n",
    "                            \"carell.png\")),\n",
    "                             cv2.COLOR_BGR2RGB)\n",
    "to_face = cv2.cvtColor(cv2.imread(join(data_folder, \"face_swap\", \n",
    "                            \"steve.jpg\")),\n",
    "                             cv2.COLOR_BGR2RGB)"
   ]
  },
  {
   "cell_type": "code",
   "execution_count": null,
   "metadata": {
    "scrolled": false
   },
   "outputs": [],
   "source": [
    "plt.imshow(from_face)\n",
    "plt.show()\n",
    "plt.imshow(to_face)\n",
    "plt.show()"
   ]
  },
  {
   "cell_type": "markdown",
   "metadata": {},
   "source": [
    "# Face Alignment"
   ]
  },
  {
   "cell_type": "code",
   "execution_count": null,
   "metadata": {},
   "outputs": [],
   "source": [
    "# flip destination face if pointing to opposite horizontal direction\n",
    "landmark_detector.get_face_horizontal_orientation(from_face)"
   ]
  },
  {
   "cell_type": "markdown",
   "metadata": {},
   "source": [
    "## Landmark Detection"
   ]
  },
  {
   "cell_type": "code",
   "execution_count": null,
   "metadata": {},
   "outputs": [],
   "source": [
    "landmark_detector = utils.LandmarkDetector(join(data_folder, 'shape_predictor_68_face_landmarks.dat'))"
   ]
  },
  {
   "cell_type": "code",
   "execution_count": null,
   "metadata": {},
   "outputs": [],
   "source": [
    "# get face boundary points and containing rectangles\n",
    "# for both faces\n",
    "face_boundary_from, rect_from = landmark_detector.get_contour(from_face)\n",
    "face_boundary_to, rect_to = landmark_detector.get_contour(to_face)"
   ]
  },
  {
   "cell_type": "markdown",
   "metadata": {},
   "source": [
    "## Find Convex Hull\n",
    "Get convex hull indexes only of target face, and obtain hull points for both faces using such indexes."
   ]
  },
  {
   "cell_type": "code",
   "execution_count": null,
   "metadata": {
    "collapsed": true
   },
   "outputs": [],
   "source": [
    "#hull_idx_from = cv2.convexHull(face_boundary_from, returnPoints = False)\n",
    "hull_idx_to = cv2.convexHull(face_boundary_to, returnPoints = False)"
   ]
  },
  {
   "cell_type": "code",
   "execution_count": null,
   "metadata": {
    "collapsed": true
   },
   "outputs": [],
   "source": [
    "#??Do not use directly this cause you might lose correspondence\n",
    "#between number of points\n",
    "#hull_from = cv2.convexHull(face_boundary_from, returnPoints = True)\n",
    "#hull_to = cv2.convexHull(face_boundary_to, returnPoints = True)"
   ]
  },
  {
   "cell_type": "code",
   "execution_count": null,
   "metadata": {},
   "outputs": [],
   "source": [
    "hull_from = np.array([face_boundary_from[hull_idx] for hull_idx in hull_idx_to])\n",
    "hull_to = np.array([face_boundary_to[hull_idx] for hull_idx in hull_idx_to])"
   ]
  },
  {
   "cell_type": "markdown",
   "metadata": {},
   "source": [
    "## Delaunay Triangulation"
   ]
  },
  {
   "cell_type": "code",
   "execution_count": null,
   "metadata": {},
   "outputs": [],
   "source": [
    "#triangles_from_idxs = utils.get_triangles_indexes(from_face, rect_from, hull_idx_to, face_boundary_from)\n",
    "triangles_to_idxs = utils.get_triangles_indexes(to_face, rect_to, hull_idx_to, face_boundary_to)"
   ]
  },
  {
   "cell_type": "code",
   "execution_count": null,
   "metadata": {
    "collapsed": true
   },
   "outputs": [],
   "source": [
    "triangles_from = utils.clean_triangles((0, 0, from_face.shape[1], from_face.shape[0]), \n",
    "                                 utils.delaunay_triangulation(from_face, rect_from, hull_idx_from, face_boundary_from))\n",
    "triangles_to = utils.clean_triangles((0, 0, to_face.shape[1], to_face.shape[0]), \n",
    "                               utils.delaunay_triangulation(to_face, rect_to, hull_idx_to, face_boundary_to))"
   ]
  },
  {
   "cell_type": "code",
   "execution_count": null,
   "metadata": {
    "collapsed": true
   },
   "outputs": [],
   "source": [
    "print(len(triangles_from))\n",
    "print(len(triangles_to))"
   ]
  },
  {
   "cell_type": "markdown",
   "metadata": {
    "heading_collapsed": true
   },
   "source": [
    "### Plot Triangulation"
   ]
  },
  {
   "cell_type": "code",
   "execution_count": null,
   "metadata": {
    "collapsed": true,
    "hidden": true
   },
   "outputs": [],
   "source": [
    "import matplotlib.patches as patches"
   ]
  },
  {
   "cell_type": "code",
   "execution_count": null,
   "metadata": {
    "collapsed": true,
    "hidden": true
   },
   "outputs": [],
   "source": [
    "# Create figure and axes\n",
    "fig,ax = plt.subplots(1)\n",
    "\n",
    "# Display the image\n",
    "ax.imshow(from_face)\n",
    "\n",
    "for t in triangles_from:\n",
    "    triangle = patches.Polygon(t, linewidth=1,edgecolor='r',facecolor='none')\n",
    "    ax.add_patch(triangle)\n",
    "# Create a Rectangle patch\n",
    "#rect = patches.Rectangle((50,100),40,30,linewidth=1,edgecolor='r',facecolor='none')\n",
    "\n",
    "# Add the patch to the Axes\n",
    "#ax.add_patch(rect)\n",
    "plt.show()"
   ]
  },
  {
   "cell_type": "code",
   "execution_count": null,
   "metadata": {
    "collapsed": true,
    "hidden": true
   },
   "outputs": [],
   "source": [
    "# Create figure and axes\n",
    "fig,ax = plt.subplots(1)\n",
    "# Display the image\n",
    "ax.imshow(to_face)\n",
    "\n",
    "for t in triangles_to:\n",
    "    triangle = patches.Polygon(t, linewidth=1,edgecolor='r',facecolor='none')\n",
    "    ax.add_patch(triangle)\n",
    "# Create a Rectangle patch\n",
    "#rect = patches.Rectangle((50,100),40,30,linewidth=1,edgecolor='r',facecolor='none')\n",
    "\n",
    "# Add the patch to the Axes\n",
    "#ax.add_patch(rect)\n",
    "plt.show()"
   ]
  },
  {
   "cell_type": "code",
   "execution_count": null,
   "metadata": {
    "collapsed": true,
    "hidden": true
   },
   "outputs": [],
   "source": [
    "np.array(triangles_to[0])"
   ]
  },
  {
   "cell_type": "markdown",
   "metadata": {},
   "source": [
    "## Affine warp triangles "
   ]
  },
  {
   "cell_type": "code",
   "execution_count": null,
   "metadata": {},
   "outputs": [],
   "source": [
    "img_res = utils.image_affine_warp(hull_from,\n",
    "                      hull_to,\n",
    "                      triangles_to_idxs, \n",
    "                      from_face, \n",
    "                      to_face.copy())"
   ]
  },
  {
   "cell_type": "code",
   "execution_count": null,
   "metadata": {
    "scrolled": true
   },
   "outputs": [],
   "source": [
    "plt.imshow(img_res)\n",
    "plt.show()"
   ]
  },
  {
   "cell_type": "markdown",
   "metadata": {},
   "source": [
    "# Seamless Cloning"
   ]
  },
  {
   "cell_type": "code",
   "execution_count": null,
   "metadata": {
    "collapsed": true
   },
   "outputs": [],
   "source": [
    "output = utils.seamless_cloning(hull_to.reshape(hull_to.shape[0], 2), to_face, img_res)"
   ]
  },
  {
   "cell_type": "code",
   "execution_count": null,
   "metadata": {},
   "outputs": [],
   "source": [
    "plt.imshow(output)\n",
    "plt.show()"
   ]
  },
  {
   "cell_type": "code",
   "execution_count": null,
   "metadata": {
    "collapsed": true
   },
   "outputs": [],
   "source": []
  }
 ],
 "metadata": {
  "kernelspec": {
   "display_name": "Python [conda env:image-processing]",
   "language": "python",
   "name": "conda-env-image-processing-py"
  },
  "language_info": {
   "codemirror_mode": {
    "name": "ipython",
    "version": 3
   },
   "file_extension": ".py",
   "mimetype": "text/x-python",
   "name": "python",
   "nbconvert_exporter": "python",
   "pygments_lexer": "ipython3",
   "version": "3.6.3"
  },
  "toc": {
   "nav_menu": {},
   "number_sections": true,
   "sideBar": true,
   "skip_h1_title": false,
   "toc_cell": true,
   "toc_position": {
    "height": "704px",
    "left": "0px",
    "right": "1295px",
    "top": "107px",
    "width": "145px"
   },
   "toc_section_display": "block",
   "toc_window_display": true
  }
 },
 "nbformat": 4,
 "nbformat_minor": 2
}
