{
 "cells": [
  {
   "cell_type": "markdown",
   "metadata": {},
   "source": [
    "# Intro\n",
    "Exploratory notebook related to linear algebra theory and applications.\n",
    "\n",
    "Examples from [Computational Linear Algebra for Coders](https://github.com/fastai/numerical-linear-algebra/blob/master/README.md)\n",
    "\n",
    "## Linear Algebra\n",
    "\"Concerning vectors, their properties, mappings and operations\""
   ]
  },
  {
   "cell_type": "code",
   "execution_count": null,
   "metadata": {
    "ExecuteTime": {
     "end_time": "2017-09-07T09:17:46.465746",
     "start_time": "2017-09-07T09:17:46.334739"
    },
    "collapsed": true
   },
   "outputs": [],
   "source": [
    "import numpy as np"
   ]
  },
  {
   "cell_type": "markdown",
   "metadata": {
    "heading_collapsed": true
   },
   "source": [
    "# Floating Point Arithmetic\n",
    "Simple demonstration of how floating point arithmetic can differ from the pure mathematical model."
   ]
  },
  {
   "cell_type": "code",
   "execution_count": null,
   "metadata": {
    "ExecuteTime": {
     "end_time": "2017-08-29T13:14:17.095888",
     "start_time": "2017-08-29T13:14:17.077887"
    },
    "collapsed": true,
    "hidden": true
   },
   "outputs": [],
   "source": [
    "def f(x):\n",
    "    if x<=1/2:\n",
    "        return x*2\n",
    "    if x>1/2:\n",
    "        return x*2-1"
   ]
  },
  {
   "cell_type": "code",
   "execution_count": null,
   "metadata": {
    "ExecuteTime": {
     "end_time": "2017-08-29T13:15:30.096063",
     "start_time": "2017-08-29T13:15:30.075062"
    },
    "collapsed": false,
    "hidden": true,
    "scrolled": true
   },
   "outputs": [],
   "source": [
    "x = 1/10\n",
    "for i in range(80):\n",
    "    print(x)\n",
    "    x = f(x)"
   ]
  },
  {
   "cell_type": "markdown",
   "metadata": {},
   "source": [
    "# Matrix/Vector Multiplication"
   ]
  },
  {
   "cell_type": "markdown",
   "metadata": {},
   "source": [
    "Example from [fastai](http://nbviewer.jupyter.org/github/fastai/numerical-linear-algebra/blob/master/nbs/1.%20Why%20are%20we%20here.ipynb#Matrix-and-Tensor-Products)"
   ]
  },
  {
   "cell_type": "code",
   "execution_count": null,
   "metadata": {
    "ExecuteTime": {
     "end_time": "2017-09-07T10:09:34.050490",
     "start_time": "2017-09-07T10:09:34.045490"
    },
    "collapsed": false
   },
   "outputs": [],
   "source": [
    "X = np.array([0.85, 0.1, 0.05, 0.]).reshape(1, 4)"
   ]
  },
  {
   "cell_type": "code",
   "execution_count": null,
   "metadata": {
    "ExecuteTime": {
     "end_time": "2017-09-07T10:09:37.520689",
     "start_time": "2017-09-07T10:09:37.516688"
    },
    "collapsed": false
   },
   "outputs": [],
   "source": [
    "Y = np.array([[0.9, 0.07, 0.02, 0.01],\n",
    "              [0, 0.93, 0.05, 0.02],\n",
    "              [0, 0, 0.85, 0.15],\n",
    "              [0, 0, 0, 1.]])"
   ]
  },
  {
   "cell_type": "markdown",
   "metadata": {},
   "source": [
    "Using multiplication sign for numpy arrays is not equivalent to matrix multiplication, it instead relies on the concept of broadcasting.\n",
    "Proper matrix multiplication can be obtained using `np.dot()` (or `@` in Python 3.x)."
   ]
  },
  {
   "cell_type": "code",
   "execution_count": null,
   "metadata": {
    "ExecuteTime": {
     "end_time": "2017-09-07T10:09:42.595979",
     "start_time": "2017-09-07T10:09:42.589979"
    },
    "collapsed": false
   },
   "outputs": [],
   "source": [
    "np.dot(X, Y)"
   ]
  },
  {
   "cell_type": "code",
   "execution_count": null,
   "metadata": {
    "ExecuteTime": {
     "end_time": "2017-09-07T10:10:20.338138",
     "start_time": "2017-09-07T10:10:20.334137"
    },
    "collapsed": false
   },
   "outputs": [],
   "source": [
    "X @ Y"
   ]
  },
  {
   "cell_type": "code",
   "execution_count": null,
   "metadata": {
    "ExecuteTime": {
     "end_time": "2017-09-07T10:09:52.142525",
     "start_time": "2017-09-07T10:09:52.137525"
    },
    "collapsed": false
   },
   "outputs": [],
   "source": [
    "X * Y"
   ]
  },
  {
   "cell_type": "markdown",
   "metadata": {
    "collapsed": true
   },
   "source": [
    "# Norm\n",
    "Norm is the size of a vector. More generally, p-norm (or $L^p$ norm) of $x$ is defined as \n",
    "\n",
    "$$ \\left\\|\\mathbf {x} \\right\\|_{p}={\\bigg (}\\sum _{i=1}^{n}\\left|x_{i}\\right|^{p}{\\bigg )}^{1/p} $$\n",
    "\n",
    "1-norm = Manhattan norm, simplifies to absolute values sum\n",
    "\n",
    "2-norm = euclidean norm (distance from the origin to the point identified by $x$)"
   ]
  },
  {
   "cell_type": "code",
   "execution_count": null,
   "metadata": {
    "ExecuteTime": {
     "end_time": "2017-09-07T09:27:29.599100",
     "start_time": "2017-09-07T09:27:29.594099"
    },
    "collapsed": true
   },
   "outputs": [],
   "source": [
    "a = np.array([2,2])"
   ]
  },
  {
   "cell_type": "code",
   "execution_count": null,
   "metadata": {
    "ExecuteTime": {
     "end_time": "2017-09-07T09:27:30.351143",
     "start_time": "2017-09-07T09:27:30.342142"
    },
    "collapsed": false
   },
   "outputs": [],
   "source": [
    "# vector 1-norm\n",
    "np.linalg.norm(a, ord=1)"
   ]
  },
  {
   "cell_type": "code",
   "execution_count": null,
   "metadata": {
    "ExecuteTime": {
     "end_time": "2017-09-07T09:27:37.498552",
     "start_time": "2017-09-07T09:27:37.492551"
    },
    "collapsed": false
   },
   "outputs": [],
   "source": [
    "# vector 1-norm\n",
    "np.linalg.norm(a, ord=2)"
   ]
  },
  {
   "cell_type": "code",
   "execution_count": null,
   "metadata": {
    "ExecuteTime": {
     "end_time": "2017-09-07T09:41:30.986224",
     "start_time": "2017-09-07T09:41:30.981224"
    },
    "collapsed": false
   },
   "outputs": [],
   "source": [
    "m = np.array([[5,3],[0,4]])"
   ]
  },
  {
   "cell_type": "code",
   "execution_count": null,
   "metadata": {
    "ExecuteTime": {
     "end_time": "2017-09-07T09:41:31.233238",
     "start_time": "2017-09-07T09:41:31.228238"
    },
    "collapsed": false
   },
   "outputs": [],
   "source": [
    "# matrix 1-norm\n",
    "np.linalg.norm(m, ord=1)"
   ]
  },
  {
   "cell_type": "code",
   "execution_count": null,
   "metadata": {
    "ExecuteTime": {
     "end_time": "2017-09-07T09:29:22.655566",
     "start_time": "2017-09-07T09:29:22.628565"
    },
    "collapsed": false
   },
   "outputs": [],
   "source": [
    "# vector 2-norm\n",
    "np.linalg.norm(m, ord=2)"
   ]
  },
  {
   "cell_type": "markdown",
   "metadata": {},
   "source": [
    "# Broadcasting\n",
    "Technique embedded in Numpy (and also other libraries) that allows to operate arithmetic operations between tensors of different shapes, by \"broadcasting\" the smaller array such as to obtain a compatible shape. "
   ]
  },
  {
   "cell_type": "code",
   "execution_count": null,
   "metadata": {
    "ExecuteTime": {
     "end_time": "2017-09-07T14:16:32.191268",
     "start_time": "2017-09-07T14:16:32.186268"
    },
    "collapsed": true
   },
   "outputs": [],
   "source": [
    "a = np.array([1,2,3,4])\n",
    "b = np.array([1,5])"
   ]
  },
  {
   "cell_type": "code",
   "execution_count": null,
   "metadata": {
    "ExecuteTime": {
     "end_time": "2017-09-07T14:11:50.266143",
     "start_time": "2017-09-07T14:11:50.253143"
    },
    "collapsed": false
   },
   "outputs": [],
   "source": [
    "a - 3"
   ]
  },
  {
   "cell_type": "code",
   "execution_count": null,
   "metadata": {
    "ExecuteTime": {
     "end_time": "2017-09-07T14:13:31.440930",
     "start_time": "2017-09-07T14:13:31.434930"
    },
    "collapsed": false
   },
   "outputs": [],
   "source": [
    "a.reshape((4,1)) - 3"
   ]
  },
  {
   "cell_type": "code",
   "execution_count": null,
   "metadata": {
    "ExecuteTime": {
     "end_time": "2017-09-07T14:13:50.245006",
     "start_time": "2017-09-07T14:13:50.230005"
    },
    "collapsed": false
   },
   "outputs": [],
   "source": [
    "a.reshape((2,2)) - 3"
   ]
  },
  {
   "cell_type": "code",
   "execution_count": null,
   "metadata": {
    "ExecuteTime": {
     "end_time": "2017-09-07T14:18:41.612671",
     "start_time": "2017-09-07T14:18:41.604670"
    },
    "collapsed": false
   },
   "outputs": [],
   "source": [
    "#a - b #cannot broadcast\n",
    "a.reshape((4,1)) - b.reshape((1, 2)) # both a and b are broadcasted to 4x2"
   ]
  },
  {
   "cell_type": "code",
   "execution_count": null,
   "metadata": {
    "ExecuteTime": {
     "end_time": "2017-09-07T14:21:16.110508",
     "start_time": "2017-09-07T14:21:16.095507"
    },
    "collapsed": false
   },
   "outputs": [],
   "source": [
    "a.reshape((2, 2)) - b.reshape((1, 2))"
   ]
  },
  {
   "cell_type": "code",
   "execution_count": null,
   "metadata": {
    "collapsed": true
   },
   "outputs": [],
   "source": []
  }
 ],
 "metadata": {
  "kernelspec": {
   "display_name": "Python [conda env:kaggle]",
   "language": "python",
   "name": "conda-env-kaggle-py"
  },
  "language_info": {
   "codemirror_mode": {
    "name": "ipython",
    "version": 3
   },
   "file_extension": ".py",
   "mimetype": "text/x-python",
   "name": "python",
   "nbconvert_exporter": "python",
   "pygments_lexer": "ipython3",
   "version": "3.5.2"
  },
  "toc": {
   "colors": {
    "hover_highlight": "#DAA520",
    "running_highlight": "#FF0000",
    "selected_highlight": "#FFD700"
   },
   "moveMenuLeft": true,
   "nav_menu": {
    "height": "67px",
    "width": "252px"
   },
   "navigate_menu": true,
   "number_sections": true,
   "sideBar": true,
   "threshold": 4,
   "toc_cell": false,
   "toc_section_display": "block",
   "toc_window_display": false
  }
 },
 "nbformat": 4,
 "nbformat_minor": 2
}
