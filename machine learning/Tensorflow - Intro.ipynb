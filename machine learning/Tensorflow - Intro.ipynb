{
 "cells": [
  {
   "cell_type": "markdown",
   "metadata": {
    "toc": true
   },
   "source": [
    "<h1>Table of Contents<span class=\"tocSkip\"></span></h1>\n",
    "<div class=\"toc\" style=\"margin-top: 1em;\"><ul class=\"toc-item\"><li><span><a href=\"#Intro\" data-toc-modified-id=\"Intro-1\"><span class=\"toc-item-num\">1&nbsp;&nbsp;</span>Intro</a></span></li><li><span><a href=\"#Save-and-Restore-Variables\" data-toc-modified-id=\"Save-and-Restore-Variables-2\"><span class=\"toc-item-num\">2&nbsp;&nbsp;</span><a href=\"https://www.tensorflow.org/programmers_guide/saved_model\" target=\"_blank\">Save and Restore Variables</a></a></span></li><li><span><a href=\"#Save-and-Restore-a-Model\" data-toc-modified-id=\"Save-and-Restore-a-Model-3\"><span class=\"toc-item-num\">3&nbsp;&nbsp;</span><a href=\"https://www.tensorflow.org/programmers_guide/saved_model\" target=\"_blank\">Save and Restore a Model</a></a></span></li><li><span><a href=\"#Serving-Client\" data-toc-modified-id=\"Serving-Client-4\"><span class=\"toc-item-num\">4&nbsp;&nbsp;</span>Serving Client</a></span></li></ul></div>"
   ]
  },
  {
   "cell_type": "markdown",
   "metadata": {},
   "source": [
    "# Intro"
   ]
  },
  {
   "cell_type": "markdown",
   "metadata": {
    "ExecuteTime": {
     "end_time": "2017-09-15T15:58:13.785614",
     "start_time": "2017-09-15T15:58:13.778613"
    }
   },
   "source": [
    "Notebook revolving around the use and concepts of [Tensorflow](https://www.tensorflow.org/)."
   ]
  },
  {
   "cell_type": "code",
   "execution_count": null,
   "metadata": {
    "collapsed": true
   },
   "outputs": [],
   "source": [
    "import os\n",
    "from os.path import join\n",
    "import sys\n",
    "import numpy as np\n",
    "import pandas as pd\n",
    "from matplotlib import pyplot as plt\n",
    "\n",
    "import tensorflow as tf\n",
    "\n",
    "%matplotlib notebook\n",
    "#%matplotlib inline\n",
    "\n",
    "models_data_folder = \"/Users/\""
   ]
  },
  {
   "cell_type": "markdown",
   "metadata": {},
   "source": [
    "# [Save and Restore Variables](https://www.tensorflow.org/programmers_guide/saved_model)"
   ]
  },
  {
   "cell_type": "code",
   "execution_count": null,
   "metadata": {
    "collapsed": true
   },
   "outputs": [],
   "source": [
    "# dummy variables\n",
    "#v1 = tf.get_variable(\"v1\", shape=[3], initializer=tf.zeros_initializer)\n",
    "#v2 = tf.get_variablea(\"v2\", shape=[5], initializer=tf.zeros_initializer)\n",
    "v1 = tf.Variable(tf.constant(0), name='v1')\n",
    "v2 = tf.Variable(tf.constant(5), name='v2')\n",
    "\n",
    "# dummy operations\n",
    "inc_v1 = v1.assign(v1+1)\n",
    "dec_v2 = v2.assign(v2-1)"
   ]
  },
  {
   "cell_type": "code",
   "execution_count": null,
   "metadata": {
    "collapsed": true
   },
   "outputs": [],
   "source": [
    "# Save variables\n",
    "\n",
    "# def init op and saver\n",
    "init_op = tf.global_variables_initializer()\n",
    "saver = tf.train.Saver()\n",
    "\n",
    "# run some operations and save sessions\n",
    "with tf.Session() as sess:\n",
    "    sess.run(init_op)\n",
    "    inc_v1.op.run()\n",
    "    dec_v2.op.run()\n",
    "    \n",
    "    save_path = saver.save(sess,\n",
    "                join(models_data_folder, 'tmp', \"model.ckpt\"))\n",
    "    print(\"Model saved in {}\".format(save_path))"
   ]
  },
  {
   "cell_type": "code",
   "execution_count": null,
   "metadata": {
    "collapsed": true
   },
   "outputs": [],
   "source": [
    "# test behavior in new session (need to rerun initializer)\n",
    "with tf.Session() as sess:\n",
    "    sess.run(init_op)\n",
    "    print(v1.eval())\n",
    "    print(inc_v1.eval())\n",
    "    print(v1.eval())"
   ]
  },
  {
   "cell_type": "code",
   "execution_count": null,
   "metadata": {
    "collapsed": true
   },
   "outputs": [],
   "source": [
    "# Restore Variables\n",
    "\n",
    "# need to redefine the variable\n",
    "v1 = tf.Variable(tf.constant(0), name='v1')\n",
    "\n",
    "saver = tf.train.Saver()\n",
    "\n",
    "with tf.Session() as sess:\n",
    "    saver.restore(sess,\n",
    "                 join(models_data_folder, 'tmp', \"model.ckpt\"))\n",
    "    \n",
    "    #now v1 should have the value we previously saved\n",
    "    print(v1.eval())"
   ]
  },
  {
   "cell_type": "markdown",
   "metadata": {},
   "source": [
    "# [Save and Restore a Model](https://www.tensorflow.org/programmers_guide/saved_model)\n",
    "Uses *SavedModelBuilder* instead of *Saver*. Should this be done only for serving? In what way can I reload a model saved with the former and retrain?"
   ]
  },
  {
   "cell_type": "code",
   "execution_count": null,
   "metadata": {
    "collapsed": true
   },
   "outputs": [],
   "source": [
    "# directory where model will be exported\n",
    "# include version info in model path as required by TF\n",
    "version = 0\n",
    "export_dir = join(models_data_folder, \"tf_test_models_export\", str(version))"
   ]
  },
  {
   "cell_type": "code",
   "execution_count": null,
   "metadata": {
    "collapsed": true
   },
   "outputs": [],
   "source": [
    "# dummy model\n",
    "x = tf.Variable(tf.constant(0), name='x')\n",
    "y = tf.Variable(tf.constant(5), name='y')\n",
    "f = tf.multiply(x, y, name='f')"
   ]
  },
  {
   "cell_type": "code",
   "execution_count": null,
   "metadata": {
    "collapsed": true
   },
   "outputs": [],
   "source": [
    "# save model\n",
    "with tf.Session() as sess:\n",
    "    sess.run(tf.global_variables_initializer())\n",
    "    #consider difference between eval and run\n",
    "    #see: https://stackoverflow.com/questions/33610685/in-tensorflow-what-is-the-difference-between-session-run-and-tensor-eval\n",
    "    #sess.run(f, feed_dict={x:3.0, y:5.0})\n",
    "    \n",
    "    fval = f.eval(feed_dict={x:3.0, y:5.0})\n",
    "    print(fval)\n",
    "    \n",
    "    # Init builder\n",
    "    builder = tf.saved_model.builder.SavedModelBuilder(export_dir)\n",
    "    \n",
    "    # Build info for inputs and outputs tensors\n",
    "    #??Is the key associated with the tensor name?\n",
    "    inputs = {\n",
    "        'x' : tf.saved_model.utils.build_tensor_info(x),\n",
    "        'y' : tf.saved_model.utils.build_tensor_info(y)\n",
    "    }\n",
    "    \n",
    "    outputs = {\n",
    "        'f' : tf.saved_model.utils.build_tensor_info(f)\n",
    "    }\n",
    "    \n",
    "    # Define signature (set of inputs and outputs for the graph)\n",
    "    prediction_signature = (\n",
    "        tf.saved_model.signature_def_utils.build_signature_def(\n",
    "            inputs=inputs,\n",
    "            outputs=outputs,\n",
    "            # method used for the inference\n",
    "            method_name=tf.saved_model.signature_constants.PREDICT_METHOD_NAME\n",
    "        )\n",
    "    )\n",
    "    \n",
    "    # Add meta-graph (dataflow graph, variables, assets, and signatures) \n",
    "    # to the builder\n",
    "    builder.add_meta_graph_and_variables(\n",
    "        sess=sess,\n",
    "        tags=[tf.saved_model.tag_constants.SERVING],\n",
    "        # ??\n",
    "        signature_def_map={\n",
    "            'predict' : prediction_signature\n",
    "        },\n",
    "        # ??\n",
    "        #legacy_init_op = tf.group(tf.tables_initializer(), name='legacy_init_op')\n",
    "    )\n",
    "    \n",
    "    # Finally save builder\n",
    "    builder.save()\n",
    "    "
   ]
  },
  {
   "cell_type": "code",
   "execution_count": null,
   "metadata": {
    "collapsed": true
   },
   "outputs": [],
   "source": [
    "# Restore model\n",
    "\n",
    "# redefine target\n",
    "x = tf.Variable(tf.constant(1), name='x')\n",
    "y = tf.Variable(tf.constant(5), name='y')\n",
    "#f = tf.Operation(None, name='f')\n",
    "\n",
    "with tf.Session() as sess:\n",
    "    sess.run(tf.global_variables_initializer())\n",
    "    \n",
    "    #print(f.eval())\n",
    "    \n",
    "    mg = tf.saved_model.loader.load(\n",
    "        sess=sess, \n",
    "        tags=[tf.saved_model.tag_constants.SERVING],\n",
    "        export_dir\n",
    "    )\n",
    "    f = tf.get_default_graph().get_operation_by_name(\"f\")\n",
    "    \n",
    "    # ??Why session graph keeps getting new operations?\n",
    "    # isn't it clean every time we exit the \"with\" scope\n",
    "    #print(sess.graph.get_operations())\n",
    "    \n",
    "    print(sess.run(f))"
   ]
  },
  {
   "cell_type": "markdown",
   "metadata": {},
   "source": [
    "# Serving Client\n",
    "Needs\n",
    "\n",
    "    pip install grpcio grpcio-tools\n",
    "    \n",
    "Plus Tensorflow Serving API files."
   ]
  },
  {
   "cell_type": "code",
   "execution_count": null,
   "metadata": {
    "collapsed": true
   },
   "outputs": [],
   "source": [
    "from grpc.beta import implementations\n",
    "\n",
    "# reference local copy of Tensorflow Serving API Files\n",
    "sys.path.append(os.path.join(os.getcwd(), *[os.pardir]*2, 'ext_libs'))\n",
    "import lib.predict_pb2 as predict_pb2\n",
    "import lib.prediction_service_pb2 as prediction_service_pb2"
   ]
  },
  {
   "cell_type": "code",
   "execution_count": null,
   "metadata": {
    "collapsed": true
   },
   "outputs": [],
   "source": [
    "host='127.0.0.1'\n",
    "port=9000\n",
    "channel = implementations.insecure_channel(host, int(port))\n",
    "stub = prediction_service_pb2.beta_create_PredictionService_stub(channel)\n",
    "\n",
    "# build request\n",
    "request = predict_pb2.PredictRequest()\n",
    "request.model_spec.name = 'ed' # model name, as given to bazel script\n",
    "request.model_spec.signature_name = 'predict' # as defined in ModelBuilder\n",
    "\n",
    "# define inputs\n",
    "x = 3\n",
    "y = 4\n",
    "x_tensor = tf.contrib.util.make_tensor_proto(x, dtype=tf.int32)\n",
    "y_tensor = tf.contrib.util.make_tensor_proto(y, dtype=tf.int32)\n",
    "request.inputs['x'].CopyFrom(x_tensor)\n",
    "request.inputs['y'].CopyFrom(y_tensor)\n",
    "\n",
    "# call prediction on the server\n",
    "result = stub.Predict(request, timeout=10.0)"
   ]
  },
  {
   "cell_type": "code",
   "execution_count": null,
   "metadata": {},
   "outputs": [],
   "source": [
    "result"
   ]
  }
 ],
 "metadata": {
  "kernelspec": {
   "display_name": "Python [conda env:tensor-flow]",
   "language": "python",
   "name": "conda-env-tensor-flow-py"
  },
  "language_info": {
   "codemirror_mode": {
    "name": "ipython",
    "version": 3
   },
   "file_extension": ".py",
   "mimetype": "text/x-python",
   "name": "python",
   "nbconvert_exporter": "python",
   "pygments_lexer": "ipython3",
   "version": "3.5.0"
  },
  "toc": {
   "nav_menu": {
    "height": "52px",
    "width": "254px"
   },
   "number_sections": true,
   "sideBar": true,
   "skip_h1_title": false,
   "toc_cell": true,
   "toc_position": {
    "height": "689px",
    "left": "0px",
    "right": "1213px",
    "top": "107px",
    "width": "212px"
   },
   "toc_section_display": "block",
   "toc_window_display": true
  }
 },
 "nbformat": 4,
 "nbformat_minor": 2
}
