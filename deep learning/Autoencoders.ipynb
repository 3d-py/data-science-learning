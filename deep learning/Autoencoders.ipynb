{
 "cells": [
  {
   "cell_type": "markdown",
   "metadata": {},
   "source": [
    "# Table of Contents\n",
    "* [Intro](#Intro)\n",
    "\t* [Autoencoder](#Autoencoder)\n",
    "* [Numbers Encoding (Keras)](#Numbers-Encoding-%28Keras%29)\n",
    "* [MNIST (Keras)](#MNIST-%28Keras%29)\n",
    "* [Variational Autoencoders](#Variational-Autoencoders)\n",
    "\t* [Encoder](#Encoder)\n",
    "\t* [Decoder](#Decoder)\n"
   ]
  },
  {
   "cell_type": "markdown",
   "metadata": {},
   "source": [
    "# Intro"
   ]
  },
  {
   "cell_type": "markdown",
   "metadata": {},
   "source": [
    "Exploratory notebook related to Autoencoders. Includes toy examples implementation and testing of related techniques or subjects.\n",
    "\n",
    "### Resources\n",
    "\n",
    "[Building Autoencoders in Keras](https://blog.keras.io/building-autoencoders-in-keras.html)"
   ]
  },
  {
   "cell_type": "code",
   "execution_count": 46,
   "metadata": {
    "ExecuteTime": {
     "end_time": "2017-10-20T08:35:01.998533",
     "start_time": "2017-10-20T08:34:31.525790Z"
    }
   },
   "outputs": [
    {
     "name": "stdout",
     "output_type": "stream",
     "text": [
      "The autoreload extension is already loaded. To reload it, use:\n",
      "  %reload_ext autoreload\n"
     ]
    }
   ],
   "source": [
    "# Basic libraries import\n",
    "import time\n",
    "import numpy as np\n",
    "import pdb\n",
    "import sys\n",
    "import os\n",
    "from pathlib import Path\n",
    "import seaborn as sns\n",
    "\n",
    "# Keras\n",
    "from keras.models import *\n",
    "from keras.layers import *\n",
    "from keras.layers.core import Activation, Dense\n",
    "from keras import backend as K\n",
    "from keras import optimizers\n",
    "from keras.datasets import mnist\n",
    "from keras import objectives\n",
    "from keras.initializers import *\n",
    "from keras.callbacks import *\n",
    "from keras.utils.generic_utils import Progbar\n",
    "\n",
    "# Plotting\n",
    "import matplotlib\n",
    "import matplotlib.pyplot as plt\n",
    "from matplotlib import animation\n",
    "\n",
    "sns.set_style(\"dark\")\n",
    "sns.set_context(\"paper\")\n",
    "\n",
    "%matplotlib notebook\n",
    "\n",
    "# Local utils\n",
    "sys.path.append(os.path.join(os.getcwd(), os.pardir))\n",
    "from utils.plot_utils import plot_sample_imgs\n",
    "from utils import image_processing\n",
    "\n",
    "%load_ext autoreload\n",
    "%autoreload 2"
   ]
  },
  {
   "cell_type": "markdown",
   "metadata": {},
   "source": [
    "# Autoencoder"
   ]
  },
  {
   "cell_type": "markdown",
   "metadata": {},
   "source": [
    "The goal of an autoencoder is to **learn a compressed and distributed representation of a dataset**. In the most general case it is then required for the autoencoder to be able to reconstruct the original input as accurately as possible (**minimize reconstruction error**). This technique **implicitly operates features extraction** and learning, which generally would outperform handcrafted features results.\n",
    "\n",
    "For a single-layer feedforward net this can be achieved by using an hidden size smaller than the input one, and training on a function that consider how well the net is then able to reconstruct the input data. If hidden size is equal or higher than input size, the net should learn the identity matrix.\n",
    "\n",
    "Additional concepts:\n",
    "* sparsity and regularization\n",
    "* Denoising Autoencoders (DAE):  where the training is between a corrupted version of the input and the correct one as output\n",
    "* Variational Autoencoder"
   ]
  },
  {
   "cell_type": "code",
   "execution_count": null,
   "metadata": {},
   "outputs": [],
   "source": [
    "data_folder = Path.home() / \"Documents/datasets\""
   ]
  },
  {
   "cell_type": "markdown",
   "metadata": {
    "heading_collapsed": true
   },
   "source": [
    "## Numbers Encoding (Keras)"
   ]
  },
  {
   "cell_type": "markdown",
   "metadata": {
    "hidden": true
   },
   "source": [
    "An autoencoder that tries to learn a compressed (?binary) representation for one-hot encoded numbers.\n",
    "    \n",
    "1 = 00001  \n",
    "2 = 00010  \n",
    "3 = 00100  \n",
    "4 = 01000  \n",
    "5 = 10000"
   ]
  },
  {
   "cell_type": "code",
   "execution_count": null,
   "metadata": {
    "ExecuteTime": {
     "end_time": "2017-07-24T08:47:55.858799",
     "start_time": "2017-07-24T08:47:55.844799Z"
    },
    "hidden": true
   },
   "outputs": [],
   "source": [
    "# create one-hot encoded numbers\n",
    "input_dim = 10\n",
    "nums = np.eye(input_dim)[np.arange(input_dim)]\n",
    "nums"
   ]
  },
  {
   "cell_type": "code",
   "execution_count": null,
   "metadata": {
    "ExecuteTime": {
     "end_time": "2017-07-24T08:48:17.566041",
     "start_time": "2017-07-24T08:48:17.469035Z"
    },
    "hidden": true
   },
   "outputs": [],
   "source": [
    "# model parameters\n",
    "hidden_size = input_dim//2\n",
    "\n",
    "# Keras model\n",
    "model = Sequential()\n",
    "model.add(Dense(hidden_size, input_dim=input_dim, activation=K.sigmoid))\n",
    "model.add(Dense(input_dim, activation=K.sigmoid))\n",
    "          \n",
    "# compile model\n",
    "model.compile(loss='binary_crossentropy', optimizer='adam', metrics=['accuracy'])"
   ]
  },
  {
   "cell_type": "code",
   "execution_count": null,
   "metadata": {
    "ExecuteTime": {
     "end_time": "2017-07-24T08:48:25.564498",
     "start_time": "2017-07-24T08:48:18.477093Z"
    },
    "hidden": true
   },
   "outputs": [],
   "source": [
    "# fit model\n",
    "model.fit(nums, nums, epochs=100)"
   ]
  },
  {
   "cell_type": "code",
   "execution_count": null,
   "metadata": {
    "ExecuteTime": {
     "end_time": "2017-07-24T08:49:16.904435",
     "start_time": "2017-07-24T08:49:16.884434Z"
    },
    "hidden": true
   },
   "outputs": [],
   "source": [
    "model.summary()\n",
    "layer_name = 'dense_2'"
   ]
  },
  {
   "cell_type": "code",
   "execution_count": null,
   "metadata": {
    "ExecuteTime": {
     "end_time": "2017-07-24T08:49:20.294629",
     "start_time": "2017-07-24T08:49:20.153621Z"
    },
    "hidden": true
   },
   "outputs": [],
   "source": [
    "# hidden layer weights\n",
    "sns.heatmap(model.get_layer(layer_name).get_weights()[0])\n",
    "sns.plt.show()"
   ]
  },
  {
   "cell_type": "code",
   "execution_count": null,
   "metadata": {
    "ExecuteTime": {
     "end_time": "2017-07-24T08:49:29.666165",
     "start_time": "2017-07-24T08:49:29.634163Z"
    },
    "hidden": true
   },
   "outputs": [],
   "source": [
    "# get hidden layer output building \"intermediate model\"\n",
    "intermediate_layer_model = Model(inputs=model.input,\n",
    "                                 outputs=model.get_layer(layer_name).output)\n",
    "intermediate_output = intermediate_layer_model.predict(nums)"
   ]
  },
  {
   "cell_type": "code",
   "execution_count": null,
   "metadata": {
    "ExecuteTime": {
     "end_time": "2017-07-24T08:49:30.445209",
     "start_time": "2017-07-24T08:49:30.433209Z"
    },
    "hidden": true
   },
   "outputs": [],
   "source": [
    "intermediate_output"
   ]
  },
  {
   "cell_type": "code",
   "execution_count": null,
   "metadata": {
    "ExecuteTime": {
     "end_time": "2017-07-24T08:49:31.476268",
     "start_time": "2017-07-24T08:49:31.330260Z"
    },
    "hidden": true
   },
   "outputs": [],
   "source": [
    "# predictions\n",
    "sns.heatmap(model.predict(nums[np.array([1,2,3,5,6])]))\n",
    "sns.plt.show()"
   ]
  },
  {
   "cell_type": "markdown",
   "metadata": {
    "collapsed": true
   },
   "source": [
    "## MNIST (Keras)"
   ]
  },
  {
   "cell_type": "markdown",
   "metadata": {},
   "source": [
    "Train autoencoder on the MNIST dataset."
   ]
  },
  {
   "cell_type": "code",
   "execution_count": null,
   "metadata": {
    "ExecuteTime": {
     "end_time": "2017-07-24T08:50:34.591878",
     "start_time": "2017-07-24T08:50:34.586878Z"
    }
   },
   "outputs": [],
   "source": [
    "from keras.datasets import mnist"
   ]
  },
  {
   "cell_type": "code",
   "execution_count": null,
   "metadata": {
    "ExecuteTime": {
     "end_time": "2017-07-24T08:50:35.973957",
     "start_time": "2017-07-24T08:50:35.700942Z"
    }
   },
   "outputs": [],
   "source": [
    "(X_train, y_train), (X_test, y_test) = mnist.load_data()"
   ]
  },
  {
   "cell_type": "code",
   "execution_count": null,
   "metadata": {
    "ExecuteTime": {
     "end_time": "2017-07-24T08:50:36.471986",
     "start_time": "2017-07-24T08:50:36.448985Z"
    }
   },
   "outputs": [],
   "source": [
    "# flatten 28*28 images to a 784 vector for each image\n",
    "num_pixels = X_train.shape[1] * X_train.shape[2]\n",
    "# get only subset of images\n",
    "num_images = 1000\n",
    "X_train = X_train[:num_images].reshape(num_images, num_pixels).astype('float32')\n",
    "X_test = X_test[:num_images].reshape(num_images, num_pixels).astype('float32')"
   ]
  },
  {
   "cell_type": "code",
   "execution_count": null,
   "metadata": {
    "ExecuteTime": {
     "end_time": "2017-07-24T08:50:37.136024",
     "start_time": "2017-07-24T08:50:37.125023Z"
    }
   },
   "outputs": [],
   "source": [
    "# normalize inputs from 0-255 to 0-1\n",
    "X_train = X_train / 255\n",
    "X_test = X_test / 255"
   ]
  },
  {
   "cell_type": "code",
   "execution_count": null,
   "metadata": {
    "ExecuteTime": {
     "end_time": "2017-07-24T08:50:39.233144",
     "start_time": "2017-07-24T08:50:39.048133Z"
    }
   },
   "outputs": [],
   "source": [
    "# Keras model\n",
    "model = Sequential()\n",
    "model.add(Dense(512, input_dim=num_pixels, activation=K.relu))\n",
    "model.add(Dense(256, activation=K.relu))\n",
    "model.add(Dense(512, activation=K.relu))\n",
    "model.add(Dense(num_pixels, activation=K.relu))\n",
    "          \n",
    "# compile model\n",
    "model.compile(loss='mean_squared_error', optimizer='adam')"
   ]
  },
  {
   "cell_type": "code",
   "execution_count": null,
   "metadata": {
    "ExecuteTime": {
     "end_time": "2017-07-24T08:50:41.298262",
     "start_time": "2017-07-24T08:50:41.280261Z"
    }
   },
   "outputs": [],
   "source": [
    "model.summary()"
   ]
  },
  {
   "cell_type": "code",
   "execution_count": null,
   "metadata": {
    "ExecuteTime": {
     "end_time": "2017-07-24T08:50:48.890696",
     "start_time": "2017-07-24T08:50:46.052534Z"
    }
   },
   "outputs": [],
   "source": [
    "model.fit(X_train, X_train, batch_size=100, epochs=10)"
   ]
  },
  {
   "cell_type": "code",
   "execution_count": null,
   "metadata": {
    "ExecuteTime": {
     "end_time": "2017-07-24T08:50:55.256060",
     "start_time": "2017-07-24T08:50:55.203057Z"
    }
   },
   "outputs": [],
   "source": [
    "# show original test example\n",
    "plt.imshow(X_test[5].reshape(28, 28), cmap='gray')"
   ]
  },
  {
   "cell_type": "code",
   "execution_count": null,
   "metadata": {
    "ExecuteTime": {
     "end_time": "2017-07-17T08:42:02.344610",
     "start_time": "2017-07-17T08:42:02.292607Z"
    }
   },
   "outputs": [],
   "source": [
    "# show predicted results\n",
    "pred = model.predict(X_test[5].reshape(1, num_pixels))\n",
    "plt.imshow(pred.reshape(28, 28), cmap='gray')"
   ]
  },
  {
   "cell_type": "code",
   "execution_count": null,
   "metadata": {},
   "outputs": [],
   "source": [
    "# pick some original sample indexes\n",
    "plot_side = 5\n",
    "sample_indexes = np.random.choice(range(X_train.shape[0]), plot_side*plot_side)"
   ]
  },
  {
   "cell_type": "code",
   "execution_count": null,
   "metadata": {
    "ExecuteTime": {
     "end_time": "2017-07-17T08:43:25.263352",
     "start_time": "2017-07-17T08:43:24.347300Z"
    }
   },
   "outputs": [],
   "source": [
    "# show several original test examples\n",
    "plot_sample_imgs(lambda _: X_test[sample_indexes], (28, 28), plot_side=plot_side)"
   ]
  },
  {
   "cell_type": "code",
   "execution_count": null,
   "metadata": {
    "ExecuteTime": {
     "end_time": "2017-07-17T08:43:34.789897",
     "start_time": "2017-07-17T08:43:33.607830Z"
    }
   },
   "outputs": [],
   "source": [
    "# show predicted results\n",
    "plot_sample_imgs(lambda _: model.predict(X_test[sample_indexes]), (28, 28), plot_side=plot_side)"
   ]
  },
  {
   "cell_type": "markdown",
   "metadata": {},
   "source": [
    "# [TODO] Denoising Autoencoder (DAE)"
   ]
  },
  {
   "cell_type": "markdown",
   "metadata": {},
   "source": [
    "Improves on vanilla version by using a dataset where the training inputs have been corrupted with some sort of noise."
   ]
  },
  {
   "cell_type": "markdown",
   "metadata": {
    "collapsed": true
   },
   "source": [
    "# Variational Autoencoder (VAE)"
   ]
  },
  {
   "cell_type": "markdown",
   "metadata": {},
   "source": [
    "Just one constrain separates a normal autoencoder from a variational one: forcing \"it to generate latent vectors that roughly follow a unit Gaussian distribution\". The generation process is then about sampling a latent vector and feeding it to the decoder.\n",
    "\n",
    "Resources:\n",
    "* [VAE Explained](http://kvfrans.com/variational-autoencoders-explained/)\n",
    "* [KL Loss with a unit gaussian](https://stats.stackexchange.com/questions/318184/kl-loss-with-a-unit-gaussian)"
   ]
  },
  {
   "cell_type": "code",
   "execution_count": 2,
   "metadata": {
    "ExecuteTime": {
     "end_time": "2017-10-20T08:35:50.426303",
     "start_time": "2017-10-20T08:35:50.423303Z"
    }
   },
   "outputs": [],
   "source": [
    "test_img_shape = (28, 28, 1)\n",
    "test_latent_dim = 10"
   ]
  },
  {
   "cell_type": "markdown",
   "metadata": {},
   "source": [
    "## Encoder"
   ]
  },
  {
   "cell_type": "code",
   "execution_count": 3,
   "metadata": {
    "ExecuteTime": {
     "end_time": "2017-10-20T08:35:53.025452",
     "start_time": "2017-10-20T08:35:53.014451Z"
    }
   },
   "outputs": [],
   "source": [
    "# standard convolution block used in the encoder\n",
    "def encoder_conv_block(filters, block_input, kernel_size=(3, 3), strides=(1, 1)):\n",
    "    block = Convolution2D(filters, kernel_size, strides=strides, padding='same')(block_input)\n",
    "    block = LeakyReLU()(block)\n",
    "    return block"
   ]
  },
  {
   "cell_type": "code",
   "execution_count": 4,
   "metadata": {
    "ExecuteTime": {
     "end_time": "2017-10-20T08:35:53.193462",
     "start_time": "2017-10-20T08:35:53.180461Z"
    }
   },
   "outputs": [],
   "source": [
    "# takes an image and generates two vectors: means and standards deviations\n",
    "def encoder_model(input_shape, latent_dim, init_filters=64, num_conv_blocks=2):\n",
    "    input_image = Input(shape=input_shape)\n",
    "    \n",
    "    x = input_image\n",
    "    for i in range(num_conv_blocks):\n",
    "        x = encoder_conv_block(init_filters*(2**i), block_input=x)\n",
    "\n",
    "    features = Flatten()(x)\n",
    "    \n",
    "    # gaussian parameters\n",
    "    mean_vector = Dense(latent_dim, activation='linear')(features)\n",
    "    std_vector = Dense(latent_dim, activation='linear')(features)\n",
    "    \n",
    "    return Model(inputs=[input_image], outputs=[mean_vector, std_vector])"
   ]
  },
  {
   "cell_type": "code",
   "execution_count": 5,
   "metadata": {
    "ExecuteTime": {
     "end_time": "2017-10-20T08:36:02.420989",
     "start_time": "2017-10-20T08:36:02.233979Z"
    }
   },
   "outputs": [
    {
     "name": "stdout",
     "output_type": "stream",
     "text": [
      "__________________________________________________________________________________________________\n",
      "Layer (type)                    Output Shape         Param #     Connected to                     \n",
      "==================================================================================================\n",
      "input_1 (InputLayer)            (None, 28, 28, 1)    0                                            \n",
      "__________________________________________________________________________________________________\n",
      "conv2d_1 (Conv2D)               (None, 28, 28, 64)   640         input_1[0][0]                    \n",
      "__________________________________________________________________________________________________\n",
      "leaky_re_lu_1 (LeakyReLU)       (None, 28, 28, 64)   0           conv2d_1[0][0]                   \n",
      "__________________________________________________________________________________________________\n",
      "conv2d_2 (Conv2D)               (None, 28, 28, 128)  73856       leaky_re_lu_1[0][0]              \n",
      "__________________________________________________________________________________________________\n",
      "leaky_re_lu_2 (LeakyReLU)       (None, 28, 28, 128)  0           conv2d_2[0][0]                   \n",
      "__________________________________________________________________________________________________\n",
      "flatten_1 (Flatten)             (None, 100352)       0           leaky_re_lu_2[0][0]              \n",
      "__________________________________________________________________________________________________\n",
      "dense_1 (Dense)                 (None, 10)           1003530     flatten_1[0][0]                  \n",
      "__________________________________________________________________________________________________\n",
      "dense_2 (Dense)                 (None, 10)           1003530     flatten_1[0][0]                  \n",
      "==================================================================================================\n",
      "Total params: 2,081,556\n",
      "Trainable params: 2,081,556\n",
      "Non-trainable params: 0\n",
      "__________________________________________________________________________________________________\n"
     ]
    }
   ],
   "source": [
    "# instantiate test encoder\n",
    "encoder = encoder_model(input_shape=test_img_shape, latent_dim=test_latent_dim, init_filters=64)\n",
    "encoder.summary()"
   ]
  },
  {
   "cell_type": "code",
   "execution_count": 6,
   "metadata": {
    "ExecuteTime": {
     "end_time": "2017-10-20T08:37:59.781702",
     "start_time": "2017-10-20T08:37:58.611635Z"
    }
   },
   "outputs": [
    {
     "data": {
      "text/plain": [
       "[array([[  5.9118714 , -10.547602  ,   5.1338406 ,  -1.9291997 ,\n",
       "          29.70231   ,   0.45835996, -22.48359   ,   6.2240562 ,\n",
       "          -0.24060932,   0.9197411 ]], dtype=float32),\n",
       " array([[ -6.5296917, -28.025757 , -11.909079 ,  13.647819 ,  -5.473121 ,\n",
       "         -18.757042 ,  49.873524 ,   6.2210164,  -5.2954063, -23.22677  ]],\n",
       "       dtype=float32)]"
      ]
     },
     "execution_count": 6,
     "metadata": {},
     "output_type": "execute_result"
    }
   ],
   "source": [
    "# test encoder\n",
    "encoder.predict(np.random.randint(0, 256, (1, *test_img_shape)))"
   ]
  },
  {
   "cell_type": "markdown",
   "metadata": {},
   "source": [
    "## Decoder"
   ]
  },
  {
   "cell_type": "code",
   "execution_count": 7,
   "metadata": {
    "ExecuteTime": {
     "end_time": "2017-10-20T08:46:35.158180",
     "start_time": "2017-10-20T08:46:35.151179Z"
    }
   },
   "outputs": [],
   "source": [
    "# utility for the standard deconvolution block used in the decoder\n",
    "def decoder_deconv_block(filters, block_input, kernel_size=(3, 3), strides=(1, 1)):\n",
    "    block = UpSampling2D()(block_input)\n",
    "    block = Convolution2D(filters, (3, 3), strides=strides, padding='same')(block)\n",
    "    block = LeakyReLU()(block)\n",
    "    block = BatchNormalization()(block)\n",
    "    return block"
   ]
  },
  {
   "cell_type": "code",
   "execution_count": 8,
   "metadata": {},
   "outputs": [],
   "source": [
    "# utility to get initial shape to get to final specified one\n",
    "# based on the wanted number of deconv block. \n",
    "def get_initial_size(final_size, num_deconv_blocks, factor=2):\n",
    "    if num_deconv_blocks==0:\n",
    "        return final_size\n",
    "    else:\n",
    "        return get_initial_size(final_size//factor, \n",
    "                                num_deconv_blocks-1, \n",
    "                                factor=factor)"
   ]
  },
  {
   "cell_type": "code",
   "execution_count": 9,
   "metadata": {
    "ExecuteTime": {
     "end_time": "2017-10-20T08:48:08.622526",
     "start_time": "2017-10-20T08:48:08.601525Z"
    }
   },
   "outputs": [],
   "source": [
    "# takes as input the latent vector z\n",
    "def decoder_model(latent_dim, img_shape, init_filters=128, num_deconv_blocks=2):\n",
    "    latent_vector = Input([latent_dim])\n",
    "    init_shape = tuple([get_initial_size(d, num_deconv_blocks) \n",
    "                        for d in img_shape[:-1]]+[init_filters])\n",
    "    \n",
    "    # CNN part\n",
    "    x = Dense(1024)(latent_vector)\n",
    "    x = LeakyReLU()(x)\n",
    "    \n",
    "    x = Dense(np.prod(init_shape))(x)\n",
    "    x = LeakyReLU()(x)\n",
    "    x = BatchNormalization()(x)\n",
    "    x = Reshape(init_shape)(x)\n",
    "\n",
    "    for i in range(num_deconv_blocks):\n",
    "        x = decoder_deconv_block(init_filters // (1 if i == 0 else (2 ** i)), block_input=x)\n",
    "\n",
    "    x = Convolution2D(img_shape[-1], (2, 2), padding='same', activation='sigmoid')(x)\n",
    "    \n",
    "    return Model(inputs=latent_vector, outputs=x)"
   ]
  },
  {
   "cell_type": "code",
   "execution_count": 10,
   "metadata": {
    "ExecuteTime": {
     "end_time": "2017-10-20T08:48:09.877598",
     "start_time": "2017-10-20T08:48:09.545579Z"
    }
   },
   "outputs": [
    {
     "name": "stdout",
     "output_type": "stream",
     "text": [
      "_________________________________________________________________\n",
      "Layer (type)                 Output Shape              Param #   \n",
      "=================================================================\n",
      "input_2 (InputLayer)         (None, 10)                0         \n",
      "_________________________________________________________________\n",
      "dense_3 (Dense)              (None, 1024)              11264     \n",
      "_________________________________________________________________\n",
      "leaky_re_lu_3 (LeakyReLU)    (None, 1024)              0         \n",
      "_________________________________________________________________\n",
      "dense_4 (Dense)              (None, 6272)              6428800   \n",
      "_________________________________________________________________\n",
      "leaky_re_lu_4 (LeakyReLU)    (None, 6272)              0         \n",
      "_________________________________________________________________\n",
      "batch_normalization_1 (Batch (None, 6272)              25088     \n",
      "_________________________________________________________________\n",
      "reshape_1 (Reshape)          (None, 7, 7, 128)         0         \n",
      "_________________________________________________________________\n",
      "up_sampling2d_1 (UpSampling2 (None, 14, 14, 128)       0         \n",
      "_________________________________________________________________\n",
      "conv2d_3 (Conv2D)            (None, 14, 14, 128)       147584    \n",
      "_________________________________________________________________\n",
      "leaky_re_lu_5 (LeakyReLU)    (None, 14, 14, 128)       0         \n",
      "_________________________________________________________________\n",
      "batch_normalization_2 (Batch (None, 14, 14, 128)       512       \n",
      "_________________________________________________________________\n",
      "up_sampling2d_2 (UpSampling2 (None, 28, 28, 128)       0         \n",
      "_________________________________________________________________\n",
      "conv2d_4 (Conv2D)            (None, 28, 28, 64)        73792     \n",
      "_________________________________________________________________\n",
      "leaky_re_lu_6 (LeakyReLU)    (None, 28, 28, 64)        0         \n",
      "_________________________________________________________________\n",
      "batch_normalization_3 (Batch (None, 28, 28, 64)        256       \n",
      "_________________________________________________________________\n",
      "conv2d_5 (Conv2D)            (None, 28, 28, 1)         257       \n",
      "=================================================================\n",
      "Total params: 6,687,553\n",
      "Trainable params: 6,674,625\n",
      "Non-trainable params: 12,928\n",
      "_________________________________________________________________\n"
     ]
    }
   ],
   "source": [
    "# instantiate generate model\n",
    "decoder = decoder_model(latent_dim=test_latent_dim, \n",
    "                        img_shape=test_img_shape,\n",
    "                        init_filters=128,\n",
    "                        num_deconv_blocks=2)\n",
    "decoder.summary()"
   ]
  },
  {
   "cell_type": "code",
   "execution_count": 11,
   "metadata": {},
   "outputs": [],
   "source": [
    "assert tuple(decoder.output.shape.as_list()[1:])==test_img_shape,\\\n",
    "      \"Decoder output shape is different from input image shape\""
   ]
  },
  {
   "cell_type": "code",
   "execution_count": 12,
   "metadata": {
    "ExecuteTime": {
     "end_time": "2017-10-20T08:50:59.283287",
     "start_time": "2017-10-20T08:50:58.794259Z"
    }
   },
   "outputs": [
    {
     "data": {
      "image/png": "[encoded data removed]",
      "text/plain": [
       "<matplotlib.figure.Figure at 0x1a1ecc5d30>"
      ]
     },
     "metadata": {},
     "output_type": "display_data"
    }
   ],
   "source": [
    "# plot random generated image\n",
    "plt.imshow(decoder.predict([np.random.randn(1, test_latent_dim)])[0]\n",
    "           .reshape(*test_img_shape[:-1]), cmap='gray')\n",
    "plt.show()"
   ]
  },
  {
   "cell_type": "markdown",
   "metadata": {},
   "source": [
    "## VAE Model"
   ]
  },
  {
   "cell_type": "code",
   "execution_count": 13,
   "metadata": {},
   "outputs": [],
   "source": [
    "# sample latent vector using learned distribution parameters\n",
    "def sampling(z_mean, z_log_sigma, batch_size, latent_dim):\n",
    "    epsilon = K.random_normal(shape=(batch_size, latent_dim),\n",
    "                              mean=0., stddev=1.)\n",
    "    # ?? use K.exp(z_log_sigma). Isn't our param is already z_sigma??\n",
    "    return z_mean + z_log_sigma * epsilon"
   ]
  },
  {
   "cell_type": "code",
   "execution_count": 14,
   "metadata": {},
   "outputs": [],
   "source": [
    "def get_vae_model(img_shape, latent_dim, init_filters=128, batch_size=32):\n",
    "    # init model components\n",
    "    encoder = encoder_model(input_shape=img_shape, latent_dim=latent_dim, init_filters=init_filters)\n",
    "    decoder = decoder_model(latent_dim=latent_dim, img_shape=img_shape, init_filters=init_filters)\n",
    "    \n",
    "    # Build model\n",
    "    input_img = Input(shape=(img_shape))\n",
    "    mean_vector, std_vector = encoder(inputs=input_img)\n",
    "\n",
    "    latent_vector = Lambda(lambda x : sampling(x[0], x[1], batch_size, \n",
    "                                               latent_dim))([mean_vector, std_vector])\n",
    "\n",
    "    output_img = decoder(latent_vector)\n",
    "    \n",
    "    # Compile model\n",
    "    \n",
    "    # for the loss consider the sum of the generative loss\n",
    "    # and the latent loss (KL divergence)\n",
    "    def vae_loss(real_image, generated_image):\n",
    "        gen_loss = K.mean(objectives.mean_squared_error(real_image, generated_image))\n",
    "        kl_loss = - 0.5 * K.mean(1 + std_vector - K.square(mean_vector) - K.exp(std_vector), axis=-1)\n",
    "        #kl_loss = 0.5 * K.mean(K.square(std_vector) + K.square(mean_vector) - K.log(K.square(std_vector)) -1, axis=-1)\n",
    "        return gen_loss + kl_loss\n",
    "    \n",
    "    vae = Model(inputs=input_img, outputs=output_img)\n",
    "    \n",
    "    # TODO\n",
    "    # Having/tracking separate loss functions which are then combined by Keras by given weights\n",
    "    # in order for this to work you also need multiple outputs, one for each loss\n",
    "    #gen_loss = Lambda(lambda real_image, generated_image : K.mean(objectives.mean_squared_error(real_image, generated_image)))\n",
    "    #kl_loss = Lambda(lambda _1, _2 : - 0.5 * K.mean(1 + std_vector - K.square(mean_vector) - K.exp(std_vector), axis=-1))\n",
    "    #vae.compile(loss=[gen_loss, kl_loss], loss_weights=[1., 1.], optimizer=\"adam\")\n",
    "    \n",
    "    vae.compile(loss=vae_loss, optimizer=\"adam\")\n",
    "    \n",
    "    return vae"
   ]
  },
  {
   "cell_type": "markdown",
   "metadata": {},
   "source": [
    "## MNIST Train"
   ]
  },
  {
   "cell_type": "code",
   "execution_count": 15,
   "metadata": {},
   "outputs": [],
   "source": [
    "img_shape = (28, 28, 1)\n",
    "batch_size = 32\n",
    "latent_dim = 10"
   ]
  },
  {
   "cell_type": "code",
   "execution_count": 21,
   "metadata": {},
   "outputs": [
    {
     "name": "stdout",
     "output_type": "stream",
     "text": [
      "(1024, 28, 28, 1)\n",
      "(1024,)\n"
     ]
    }
   ],
   "source": [
    "# load mnist data using Keras\n",
    "(X_train, y_train), (X_test, y_test) = mnist.load_data()\n",
    "# reshape and normalize train data\n",
    "nb_samples = 1024\n",
    "X_train = X_train[:nb_samples]\n",
    "y_train = y_train[:nb_samples]\n",
    "#X_train = X_train[len(X_train)%batch_size:] # ??need divisible by batch size?\n",
    "X_train = np.expand_dims(X_train, axis=-1)\n",
    "X_train = X_train.astype('float32')/255\n",
    "print(X_train.shape)\n",
    "print(y_train.shape)"
   ]
  },
  {
   "cell_type": "code",
   "execution_count": 22,
   "metadata": {},
   "outputs": [],
   "source": [
    "vae = get_vae_model(img_shape, latent_dim=latent_dim, init_filters=128, batch_size=batch_size)\n",
    "decoder = vae.layers[3]\n",
    "encoder = vae.layers[1]"
   ]
  },
  {
   "cell_type": "code",
   "execution_count": 23,
   "metadata": {},
   "outputs": [],
   "source": [
    "epochs = 50"
   ]
  },
  {
   "cell_type": "code",
   "execution_count": 24,
   "metadata": {},
   "outputs": [
    {
     "name": "stdout",
     "output_type": "stream",
     "text": [
      "Epoch 1/50\n",
      "1024/1024 [==============================] - 47s 46ms/step - loss: 0.1705\n",
      "Epoch 2/50\n",
      "1024/1024 [==============================] - 45s 44ms/step - loss: 0.0880\n",
      "Epoch 3/50\n",
      "1024/1024 [==============================] - 45s 44ms/step - loss: 0.0747\n",
      "Epoch 4/50\n",
      "1024/1024 [==============================] - 45s 44ms/step - loss: 0.0646\n",
      "Epoch 5/50\n",
      "1024/1024 [==============================] - 46s 45ms/step - loss: 0.0629\n",
      "Epoch 6/50\n",
      "1024/1024 [==============================] - 46s 45ms/step - loss: 0.0546\n",
      "Epoch 7/50\n",
      "1024/1024 [==============================] - 45s 44ms/step - loss: 0.0473\n",
      "Epoch 8/50\n",
      "1024/1024 [==============================] - 45s 44ms/step - loss: 0.0423\n",
      "Epoch 9/50\n",
      "1024/1024 [==============================] - 45s 44ms/step - loss: 0.0495\n",
      "Epoch 10/50\n",
      "1024/1024 [==============================] - 47s 46ms/step - loss: 0.0387\n",
      "Epoch 11/50\n",
      "1024/1024 [==============================] - 46s 45ms/step - loss: 0.0353\n",
      "Epoch 12/50\n",
      "1024/1024 [==============================] - 47s 46ms/step - loss: 0.0330\n",
      "Epoch 13/50\n",
      "1024/1024 [==============================] - 48s 47ms/step - loss: 0.0306\n",
      "Epoch 14/50\n",
      "1024/1024 [==============================] - 47s 46ms/step - loss: 0.0379\n",
      "Epoch 15/50\n",
      "1024/1024 [==============================] - 46s 45ms/step - loss: 0.0349\n",
      "Epoch 16/50\n",
      "1024/1024 [==============================] - 48s 46ms/step - loss: 0.0299\n",
      "Epoch 17/50\n",
      "1024/1024 [==============================] - 45s 44ms/step - loss: 0.0278\n",
      "Epoch 18/50\n",
      "1024/1024 [==============================] - 45s 44ms/step - loss: 0.0279\n",
      "Epoch 19/50\n",
      "1024/1024 [==============================] - 44s 43ms/step - loss: 0.0265\n",
      "Epoch 20/50\n",
      "1024/1024 [==============================] - 46s 45ms/step - loss: 0.0257\n",
      "Epoch 21/50\n",
      "1024/1024 [==============================] - 45s 44ms/step - loss: 0.0256\n",
      "Epoch 22/50\n",
      "1024/1024 [==============================] - 42s 41ms/step - loss: 0.0255\n",
      "Epoch 23/50\n",
      "1024/1024 [==============================] - 44s 43ms/step - loss: 0.0243\n",
      "Epoch 24/50\n",
      "1024/1024 [==============================] - 44s 43ms/step - loss: 0.0249\n",
      "Epoch 25/50\n",
      "1024/1024 [==============================] - 44s 43ms/step - loss: 0.0239\n",
      "Epoch 26/50\n",
      "1024/1024 [==============================] - 43s 42ms/step - loss: 0.0237\n",
      "Epoch 27/50\n",
      "1024/1024 [==============================] - 39s 38ms/step - loss: 0.0235\n",
      "Epoch 28/50\n",
      "1024/1024 [==============================] - 41s 40ms/step - loss: 0.0233\n",
      "Epoch 29/50\n",
      "1024/1024 [==============================] - 40s 39ms/step - loss: 0.0228\n",
      "Epoch 30/50\n",
      "1024/1024 [==============================] - 41s 40ms/step - loss: 0.0223\n",
      "Epoch 31/50\n",
      "1024/1024 [==============================] - 39s 38ms/step - loss: 0.0218\n",
      "Epoch 32/50\n",
      "1024/1024 [==============================] - 48s 47ms/step - loss: 0.0221\n",
      "Epoch 33/50\n",
      "1024/1024 [==============================] - 46s 45ms/step - loss: 0.0212\n",
      "Epoch 34/50\n",
      "1024/1024 [==============================] - 40s 39ms/step - loss: 0.0215\n",
      "Epoch 35/50\n",
      "1024/1024 [==============================] - 45s 44ms/step - loss: 0.0206\n",
      "Epoch 36/50\n",
      "1024/1024 [==============================] - 46s 44ms/step - loss: 0.0202\n",
      "Epoch 37/50\n",
      "1024/1024 [==============================] - 45s 44ms/step - loss: 0.0200\n",
      "Epoch 38/50\n",
      "1024/1024 [==============================] - 39s 38ms/step - loss: 0.0211\n",
      "Epoch 39/50\n",
      "1024/1024 [==============================] - 37s 36ms/step - loss: 0.0201\n",
      "Epoch 40/50\n",
      "1024/1024 [==============================] - 37s 36ms/step - loss: 0.0199\n",
      "Epoch 41/50\n",
      "1024/1024 [==============================] - 37s 37ms/step - loss: 0.0198\n",
      "Epoch 42/50\n",
      "1024/1024 [==============================] - 37s 36ms/step - loss: 0.0190\n",
      "Epoch 43/50\n",
      "1024/1024 [==============================] - 37s 36ms/step - loss: 0.0191\n",
      "Epoch 44/50\n",
      "1024/1024 [==============================] - 37s 36ms/step - loss: 0.0194\n",
      "Epoch 45/50\n",
      "1024/1024 [==============================] - 42s 41ms/step - loss: 0.0192\n",
      "Epoch 46/50\n",
      "1024/1024 [==============================] - 43s 42ms/step - loss: 0.0182\n",
      "Epoch 47/50\n",
      "1024/1024 [==============================] - 44s 43ms/step - loss: 0.0189\n",
      "Epoch 48/50\n",
      "1024/1024 [==============================] - 45s 44ms/step - loss: 0.0187\n",
      "Epoch 49/50\n",
      "1024/1024 [==============================] - 43s 42ms/step - loss: 0.0188\n",
      "Epoch 50/50\n",
      "1024/1024 [==============================] - 44s 43ms/step - loss: 0.0179\n"
     ]
    },
    {
     "data": {
      "text/plain": [
       "<keras.callbacks.History at 0x1a27c82208>"
      ]
     },
     "execution_count": 24,
     "metadata": {},
     "output_type": "execute_result"
    }
   ],
   "source": [
    "vae.fit(X_train, X_train,\n",
    "        shuffle=True,\n",
    "        epochs=epochs,\n",
    "        batch_size=batch_size)"
   ]
  },
  {
   "cell_type": "code",
   "execution_count": 25,
   "metadata": {},
   "outputs": [
    {
     "data": {
      "image/png": "[encoded data removed]",
      "text/plain": [
       "<matplotlib.figure.Figure at 0x1a3544a518>"
      ]
     },
     "metadata": {},
     "output_type": "display_data"
    }
   ],
   "source": [
    "# plot VAE results\n",
    "plot_sample_imgs(lambda x: vae.predict(X_train[:batch_size]), \n",
    "                 img_shape=img_shape[:-1],\n",
    "                 plot_side=5)"
   ]
  },
  {
   "cell_type": "code",
   "execution_count": 26,
   "metadata": {},
   "outputs": [
    {
     "data": {
      "image/png": "[encoded data removed]",
      "text/plain": [
       "<matplotlib.figure.Figure at 0x1a3a7ade80>"
      ]
     },
     "metadata": {},
     "output_type": "display_data"
    }
   ],
   "source": [
    "# plot decoder results\n",
    "plot_sample_imgs(lambda x: decoder.predict([np.random.randn(32, 10)]), \n",
    "                 img_shape=img_shape[:-1],\n",
    "                 plot_side=5)"
   ]
  },
  {
   "cell_type": "markdown",
   "metadata": {},
   "source": [
    "## Explore Latent Space"
   ]
  },
  {
   "cell_type": "code",
   "execution_count": 27,
   "metadata": {},
   "outputs": [],
   "source": [
    "# sample latent vector using learned distribution parameters\n",
    "def numpy_sampling(z_mean, z_log_sigma, batch_size, latent_dim):\n",
    "    epsilon = np.zeros(shape=(batch_size, latent_dim))\n",
    "    #epsilon = np.random.normal(loc=0., scale=1., size=(batch_size, latent_dim))\n",
    "    return z_mean + z_log_sigma * epsilon"
   ]
  },
  {
   "cell_type": "code",
   "execution_count": 28,
   "metadata": {},
   "outputs": [],
   "source": [
    "# get latent vector for given target by feeding the target to the encoder\n",
    "def get_z(target, latent_dim):\n",
    "    z_mean, z_log_sigma = encoder.predict(target)\n",
    "    z = numpy_sampling(z_mean, z_log_sigma, 1, latent_dim)\n",
    "    return z"
   ]
  },
  {
   "cell_type": "markdown",
   "metadata": {},
   "source": [
    "### Latent Space Interpolation\n",
    "Animation of the continuous interpolation between two distinct examples."
   ]
  },
  {
   "cell_type": "code",
   "execution_count": 29,
   "metadata": {},
   "outputs": [
    {
     "name": "stdout",
     "output_type": "stream",
     "text": [
      "Start value: 5\n",
      "End value: 0\n"
     ]
    }
   ],
   "source": [
    "# indexes of start and end entries in the training data\n",
    "start_idx = 0\n",
    "end_idx = 1\n",
    "\n",
    "print(\"Start value: {}\".format(y_train[start_idx]))\n",
    "print(\"End value: {}\".format(y_train[end_idx]))"
   ]
  },
  {
   "cell_type": "code",
   "execution_count": 33,
   "metadata": {},
   "outputs": [
    {
     "data": {
      "image/png": "[encoded data removed]",
      "text/plain": [
       "<matplotlib.figure.Figure at 0x1a3b85da20>"
      ]
     },
     "metadata": {},
     "output_type": "display_data"
    }
   ],
   "source": [
    "plt.imshow(X_train[start_idx].reshape(img_shape[:-1]), cmap='gray')\n",
    "#plt.imshow(X_train[end_idx].reshape(img_shape[:-1]), cmap='gray')\n",
    "plt.show()"
   ]
  },
  {
   "cell_type": "code",
   "execution_count": 50,
   "metadata": {},
   "outputs": [
    {
     "data": {
      "application/javascript": [
       "/* Put everything inside the global mpl namespace */\n",
       "window.mpl = {};\n",
       "\n",
       "\n",
       "mpl.get_websocket_type = function() {\n",
       "    if (typeof(WebSocket) !== 'undefined') {\n",
       "        return WebSocket;\n",
       "    } else if (typeof(MozWebSocket) !== 'undefined') {\n",
       "        return MozWebSocket;\n",
       "    } else {\n",
       "        alert('Your browser does not have WebSocket support.' +\n",
       "              'Please try Chrome, Safari or Firefox ≥ 6. ' +\n",
       "              'Firefox 4 and 5 are also supported but you ' +\n",
       "              'have to enable WebSockets in about:config.');\n",
       "    };\n",
       "}\n",
       "\n",
       "mpl.figure = function(figure_id, websocket, ondownload, parent_element) {\n",
       "    this.id = figure_id;\n",
       "\n",
       "    this.ws = websocket;\n",
       "\n",
       "    this.supports_binary = (this.ws.binaryType != undefined);\n",
       "\n",
       "    if (!this.supports_binary) {\n",
       "        var warnings = document.getElementById(\"mpl-warnings\");\n",
       "        if (warnings) {\n",
       "            warnings.style.display = 'block';\n",
       "            warnings.textContent = (\n",
       "                \"This browser does not support binary websocket messages. \" +\n",
       "                    \"Performance may be slow.\");\n",
       "        }\n",
       "    }\n",
       "\n",
       "    this.imageObj = new Image();\n",
       "\n",
       "    this.context = undefined;\n",
       "    this.message = undefined;\n",
       "    this.canvas = undefined;\n",
       "    this.rubberband_canvas = undefined;\n",
       "    this.rubberband_context = undefined;\n",
       "    this.format_dropdown = undefined;\n",
       "\n",
       "    this.image_mode = 'full';\n",
       "\n",
       "    this.root = $('<div/>');\n",
       "    this._root_extra_style(this.root)\n",
       "    this.root.attr('style', 'display: inline-block');\n",
       "\n",
       "    $(parent_element).append(this.root);\n",
       "\n",
       "    this._init_header(this);\n",
       "    this._init_canvas(this);\n",
       "    this._init_toolbar(this);\n",
       "\n",
       "    var fig = this;\n",
       "\n",
       "    this.waiting = false;\n",
       "\n",
       "    this.ws.onopen =  function () {\n",
       "            fig.send_message(\"supports_binary\", {value: fig.supports_binary});\n",
       "            fig.send_message(\"send_image_mode\", {});\n",
       "            if (mpl.ratio != 1) {\n",
       "                fig.send_message(\"set_dpi_ratio\", {'dpi_ratio': mpl.ratio});\n",
       "            }\n",
       "            fig.send_message(\"refresh\", {});\n",
       "        }\n",
       "\n",
       "    this.imageObj.onload = function() {\n",
       "            if (fig.image_mode == 'full') {\n",
       "                // Full images could contain transparency (where diff images\n",
       "                // almost always do), so we need to clear the canvas so that\n",
       "                // there is no ghosting.\n",
       "                fig.context.clearRect(0, 0, fig.canvas.width, fig.canvas.height);\n",
       "            }\n",
       "            fig.context.drawImage(fig.imageObj, 0, 0);\n",
       "        };\n",
       "\n",
       "    this.imageObj.onunload = function() {\n",
       "        fig.ws.close();\n",
       "    }\n",
       "\n",
       "    this.ws.onmessage = this._make_on_message_function(this);\n",
       "\n",
       "    this.ondownload = ondownload;\n",
       "}\n",
       "\n",
       "mpl.figure.prototype._init_header = function() {\n",
       "    var titlebar = $(\n",
       "        '<div class=\"ui-dialog-titlebar ui-widget-header ui-corner-all ' +\n",
       "        'ui-helper-clearfix\"/>');\n",
       "    var titletext = $(\n",
       "        '<div class=\"ui-dialog-title\" style=\"width: 100%; ' +\n",
       "        'text-align: center; padding: 3px;\"/>');\n",
       "    titlebar.append(titletext)\n",
       "    this.root.append(titlebar);\n",
       "    this.header = titletext[0];\n",
       "}\n",
       "\n",
       "\n",
       "\n",
       "mpl.figure.prototype._canvas_extra_style = function(canvas_div) {\n",
       "\n",
       "}\n",
       "\n",
       "\n",
       "mpl.figure.prototype._root_extra_style = function(canvas_div) {\n",
       "\n",
       "}\n",
       "\n",
       "mpl.figure.prototype._init_canvas = function() {\n",
       "    var fig = this;\n",
       "\n",
       "    var canvas_div = $('<div/>');\n",
       "\n",
       "    canvas_div.attr('style', 'position: relative; clear: both; outline: 0');\n",
       "\n",
       "    function canvas_keyboard_event(event) {\n",
       "        return fig.key_event(event, event['data']);\n",
       "    }\n",
       "\n",
       "    canvas_div.keydown('key_press', canvas_keyboard_event);\n",
       "    canvas_div.keyup('key_release', canvas_keyboard_event);\n",
       "    this.canvas_div = canvas_div\n",
       "    this._canvas_extra_style(canvas_div)\n",
       "    this.root.append(canvas_div);\n",
       "\n",
       "    var canvas = $('<canvas/>');\n",
       "    canvas.addClass('mpl-canvas');\n",
       "    canvas.attr('style', \"left: 0; top: 0; z-index: 0; outline: 0\")\n",
       "\n",
       "    this.canvas = canvas[0];\n",
       "    this.context = canvas[0].getContext(\"2d\");\n",
       "\n",
       "    var backingStore = this.context.backingStorePixelRatio ||\n",
       "\tthis.context.webkitBackingStorePixelRatio ||\n",
       "\tthis.context.mozBackingStorePixelRatio ||\n",
       "\tthis.context.msBackingStorePixelRatio ||\n",
       "\tthis.context.oBackingStorePixelRatio ||\n",
       "\tthis.context.backingStorePixelRatio || 1;\n",
       "\n",
       "    mpl.ratio = (window.devicePixelRatio || 1) / backingStore;\n",
       "\n",
       "    var rubberband = $('<canvas/>');\n",
       "    rubberband.attr('style', \"position: absolute; left: 0; top: 0; z-index: 1;\")\n",
       "\n",
       "    var pass_mouse_events = true;\n",
       "\n",
       "    canvas_div.resizable({\n",
       "        start: function(event, ui) {\n",
       "            pass_mouse_events = false;\n",
       "        },\n",
       "        resize: function(event, ui) {\n",
       "            fig.request_resize(ui.size.width, ui.size.height);\n",
       "        },\n",
       "        stop: function(event, ui) {\n",
       "            pass_mouse_events = true;\n",
       "            fig.request_resize(ui.size.width, ui.size.height);\n",
       "        },\n",
       "    });\n",
       "\n",
       "    function mouse_event_fn(event) {\n",
       "        if (pass_mouse_events)\n",
       "            return fig.mouse_event(event, event['data']);\n",
       "    }\n",
       "\n",
       "    rubberband.mousedown('button_press', mouse_event_fn);\n",
       "    rubberband.mouseup('button_release', mouse_event_fn);\n",
       "    // Throttle sequential mouse events to 1 every 20ms.\n",
       "    rubberband.mousemove('motion_notify', mouse_event_fn);\n",
       "\n",
       "    rubberband.mouseenter('figure_enter', mouse_event_fn);\n",
       "    rubberband.mouseleave('figure_leave', mouse_event_fn);\n",
       "\n",
       "    canvas_div.on(\"wheel\", function (event) {\n",
       "        event = event.originalEvent;\n",
       "        event['data'] = 'scroll'\n",
       "        if (event.deltaY < 0) {\n",
       "            event.step = 1;\n",
       "        } else {\n",
       "            event.step = -1;\n",
       "        }\n",
       "        mouse_event_fn(event);\n",
       "    });\n",
       "\n",
       "    canvas_div.append(canvas);\n",
       "    canvas_div.append(rubberband);\n",
       "\n",
       "    this.rubberband = rubberband;\n",
       "    this.rubberband_canvas = rubberband[0];\n",
       "    this.rubberband_context = rubberband[0].getContext(\"2d\");\n",
       "    this.rubberband_context.strokeStyle = \"#000000\";\n",
       "\n",
       "    this._resize_canvas = function(width, height) {\n",
       "        // Keep the size of the canvas, canvas container, and rubber band\n",
       "        // canvas in synch.\n",
       "        canvas_div.css('width', width)\n",
       "        canvas_div.css('height', height)\n",
       "\n",
       "        canvas.attr('width', width * mpl.ratio);\n",
       "        canvas.attr('height', height * mpl.ratio);\n",
       "        canvas.attr('style', 'width: ' + width + 'px; height: ' + height + 'px;');\n",
       "\n",
       "        rubberband.attr('width', width);\n",
       "        rubberband.attr('height', height);\n",
       "    }\n",
       "\n",
       "    // Set the figure to an initial 600x600px, this will subsequently be updated\n",
       "    // upon first draw.\n",
       "    this._resize_canvas(600, 600);\n",
       "\n",
       "    // Disable right mouse context menu.\n",
       "    $(this.rubberband_canvas).bind(\"contextmenu\",function(e){\n",
       "        return false;\n",
       "    });\n",
       "\n",
       "    function set_focus () {\n",
       "        canvas.focus();\n",
       "        canvas_div.focus();\n",
       "    }\n",
       "\n",
       "    window.setTimeout(set_focus, 100);\n",
       "}\n",
       "\n",
       "mpl.figure.prototype._init_toolbar = function() {\n",
       "    var fig = this;\n",
       "\n",
       "    var nav_element = $('<div/>')\n",
       "    nav_element.attr('style', 'width: 100%');\n",
       "    this.root.append(nav_element);\n",
       "\n",
       "    // Define a callback function for later on.\n",
       "    function toolbar_event(event) {\n",
       "        return fig.toolbar_button_onclick(event['data']);\n",
       "    }\n",
       "    function toolbar_mouse_event(event) {\n",
       "        return fig.toolbar_button_onmouseover(event['data']);\n",
       "    }\n",
       "\n",
       "    for(var toolbar_ind in mpl.toolbar_items) {\n",
       "        var name = mpl.toolbar_items[toolbar_ind][0];\n",
       "        var tooltip = mpl.toolbar_items[toolbar_ind][1];\n",
       "        var image = mpl.toolbar_items[toolbar_ind][2];\n",
       "        var method_name = mpl.toolbar_items[toolbar_ind][3];\n",
       "\n",
       "        if (!name) {\n",
       "            // put a spacer in here.\n",
       "            continue;\n",
       "        }\n",
       "        var button = $('<button/>');\n",
       "        button.addClass('ui-button ui-widget ui-state-default ui-corner-all ' +\n",
       "                        'ui-button-icon-only');\n",
       "        button.attr('role', 'button');\n",
       "        button.attr('aria-disabled', 'false');\n",
       "        button.click(method_name, toolbar_event);\n",
       "        button.mouseover(tooltip, toolbar_mouse_event);\n",
       "\n",
       "        var icon_img = $('<span/>');\n",
       "        icon_img.addClass('ui-button-icon-primary ui-icon');\n",
       "        icon_img.addClass(image);\n",
       "        icon_img.addClass('ui-corner-all');\n",
       "\n",
       "        var tooltip_span = $('<span/>');\n",
       "        tooltip_span.addClass('ui-button-text');\n",
       "        tooltip_span.html(tooltip);\n",
       "\n",
       "        button.append(icon_img);\n",
       "        button.append(tooltip_span);\n",
       "\n",
       "        nav_element.append(button);\n",
       "    }\n",
       "\n",
       "    var fmt_picker_span = $('<span/>');\n",
       "\n",
       "    var fmt_picker = $('<select/>');\n",
       "    fmt_picker.addClass('mpl-toolbar-option ui-widget ui-widget-content');\n",
       "    fmt_picker_span.append(fmt_picker);\n",
       "    nav_element.append(fmt_picker_span);\n",
       "    this.format_dropdown = fmt_picker[0];\n",
       "\n",
       "    for (var ind in mpl.extensions) {\n",
       "        var fmt = mpl.extensions[ind];\n",
       "        var option = $(\n",
       "            '<option/>', {selected: fmt === mpl.default_extension}).html(fmt);\n",
       "        fmt_picker.append(option)\n",
       "    }\n",
       "\n",
       "    // Add hover states to the ui-buttons\n",
       "    $( \".ui-button\" ).hover(\n",
       "        function() { $(this).addClass(\"ui-state-hover\");},\n",
       "        function() { $(this).removeClass(\"ui-state-hover\");}\n",
       "    );\n",
       "\n",
       "    var status_bar = $('<span class=\"mpl-message\"/>');\n",
       "    nav_element.append(status_bar);\n",
       "    this.message = status_bar[0];\n",
       "}\n",
       "\n",
       "mpl.figure.prototype.request_resize = function(x_pixels, y_pixels) {\n",
       "    // Request matplotlib to resize the figure. Matplotlib will then trigger a resize in the client,\n",
       "    // which will in turn request a refresh of the image.\n",
       "    this.send_message('resize', {'width': x_pixels, 'height': y_pixels});\n",
       "}\n",
       "\n",
       "mpl.figure.prototype.send_message = function(type, properties) {\n",
       "    properties['type'] = type;\n",
       "    properties['figure_id'] = this.id;\n",
       "    this.ws.send(JSON.stringify(properties));\n",
       "}\n",
       "\n",
       "mpl.figure.prototype.send_draw_message = function() {\n",
       "    if (!this.waiting) {\n",
       "        this.waiting = true;\n",
       "        this.ws.send(JSON.stringify({type: \"draw\", figure_id: this.id}));\n",
       "    }\n",
       "}\n",
       "\n",
       "\n",
       "mpl.figure.prototype.handle_save = function(fig, msg) {\n",
       "    var format_dropdown = fig.format_dropdown;\n",
       "    var format = format_dropdown.options[format_dropdown.selectedIndex].value;\n",
       "    fig.ondownload(fig, format);\n",
       "}\n",
       "\n",
       "\n",
       "mpl.figure.prototype.handle_resize = function(fig, msg) {\n",
       "    var size = msg['size'];\n",
       "    if (size[0] != fig.canvas.width || size[1] != fig.canvas.height) {\n",
       "        fig._resize_canvas(size[0], size[1]);\n",
       "        fig.send_message(\"refresh\", {});\n",
       "    };\n",
       "}\n",
       "\n",
       "mpl.figure.prototype.handle_rubberband = function(fig, msg) {\n",
       "    var x0 = msg['x0'] / mpl.ratio;\n",
       "    var y0 = (fig.canvas.height - msg['y0']) / mpl.ratio;\n",
       "    var x1 = msg['x1'] / mpl.ratio;\n",
       "    var y1 = (fig.canvas.height - msg['y1']) / mpl.ratio;\n",
       "    x0 = Math.floor(x0) + 0.5;\n",
       "    y0 = Math.floor(y0) + 0.5;\n",
       "    x1 = Math.floor(x1) + 0.5;\n",
       "    y1 = Math.floor(y1) + 0.5;\n",
       "    var min_x = Math.min(x0, x1);\n",
       "    var min_y = Math.min(y0, y1);\n",
       "    var width = Math.abs(x1 - x0);\n",
       "    var height = Math.abs(y1 - y0);\n",
       "\n",
       "    fig.rubberband_context.clearRect(\n",
       "        0, 0, fig.canvas.width, fig.canvas.height);\n",
       "\n",
       "    fig.rubberband_context.strokeRect(min_x, min_y, width, height);\n",
       "}\n",
       "\n",
       "mpl.figure.prototype.handle_figure_label = function(fig, msg) {\n",
       "    // Updates the figure title.\n",
       "    fig.header.textContent = msg['label'];\n",
       "}\n",
       "\n",
       "mpl.figure.prototype.handle_cursor = function(fig, msg) {\n",
       "    var cursor = msg['cursor'];\n",
       "    switch(cursor)\n",
       "    {\n",
       "    case 0:\n",
       "        cursor = 'pointer';\n",
       "        break;\n",
       "    case 1:\n",
       "        cursor = 'default';\n",
       "        break;\n",
       "    case 2:\n",
       "        cursor = 'crosshair';\n",
       "        break;\n",
       "    case 3:\n",
       "        cursor = 'move';\n",
       "        break;\n",
       "    }\n",
       "    fig.rubberband_canvas.style.cursor = cursor;\n",
       "}\n",
       "\n",
       "mpl.figure.prototype.handle_message = function(fig, msg) {\n",
       "    fig.message.textContent = msg['message'];\n",
       "}\n",
       "\n",
       "mpl.figure.prototype.handle_draw = function(fig, msg) {\n",
       "    // Request the server to send over a new figure.\n",
       "    fig.send_draw_message();\n",
       "}\n",
       "\n",
       "mpl.figure.prototype.handle_image_mode = function(fig, msg) {\n",
       "    fig.image_mode = msg['mode'];\n",
       "}\n",
       "\n",
       "mpl.figure.prototype.updated_canvas_event = function() {\n",
       "    // Called whenever the canvas gets updated.\n",
       "    this.send_message(\"ack\", {});\n",
       "}\n",
       "\n",
       "// A function to construct a web socket function for onmessage handling.\n",
       "// Called in the figure constructor.\n",
       "mpl.figure.prototype._make_on_message_function = function(fig) {\n",
       "    return function socket_on_message(evt) {\n",
       "        if (evt.data instanceof Blob) {\n",
       "            /* FIXME: We get \"Resource interpreted as Image but\n",
       "             * transferred with MIME type text/plain:\" errors on\n",
       "             * Chrome.  But how to set the MIME type?  It doesn't seem\n",
       "             * to be part of the websocket stream */\n",
       "            evt.data.type = \"image/png\";\n",
       "\n",
       "            /* Free the memory for the previous frames */\n",
       "            if (fig.imageObj.src) {\n",
       "                (window.URL || window.webkitURL).revokeObjectURL(\n",
       "                    fig.imageObj.src);\n",
       "            }\n",
       "\n",
       "            fig.imageObj.src = (window.URL || window.webkitURL).createObjectURL(\n",
       "                evt.data);\n",
       "            fig.updated_canvas_event();\n",
       "            fig.waiting = false;\n",
       "            return;\n",
       "        }\n",
       "        else if (typeof evt.data === 'string' && evt.data.slice(0, 21) == \"data:image/png;base64\") {\n",
       "            fig.imageObj.src = evt.data;\n",
       "            fig.updated_canvas_event();\n",
       "            fig.waiting = false;\n",
       "            return;\n",
       "        }\n",
       "\n",
       "        var msg = JSON.parse(evt.data);\n",
       "        var msg_type = msg['type'];\n",
       "\n",
       "        // Call the  \"handle_{type}\" callback, which takes\n",
       "        // the figure and JSON message as its only arguments.\n",
       "        try {\n",
       "            var callback = fig[\"handle_\" + msg_type];\n",
       "        } catch (e) {\n",
       "            console.log(\"No handler for the '\" + msg_type + \"' message type: \", msg);\n",
       "            return;\n",
       "        }\n",
       "\n",
       "        if (callback) {\n",
       "            try {\n",
       "                // console.log(\"Handling '\" + msg_type + \"' message: \", msg);\n",
       "                callback(fig, msg);\n",
       "            } catch (e) {\n",
       "                console.log(\"Exception inside the 'handler_\" + msg_type + \"' callback:\", e, e.stack, msg);\n",
       "            }\n",
       "        }\n",
       "    };\n",
       "}\n",
       "\n",
       "// from http://stackoverflow.com/questions/1114465/getting-mouse-location-in-canvas\n",
       "mpl.findpos = function(e) {\n",
       "    //this section is from http://www.quirksmode.org/js/events_properties.html\n",
       "    var targ;\n",
       "    if (!e)\n",
       "        e = window.event;\n",
       "    if (e.target)\n",
       "        targ = e.target;\n",
       "    else if (e.srcElement)\n",
       "        targ = e.srcElement;\n",
       "    if (targ.nodeType == 3) // defeat Safari bug\n",
       "        targ = targ.parentNode;\n",
       "\n",
       "    // jQuery normalizes the pageX and pageY\n",
       "    // pageX,Y are the mouse positions relative to the document\n",
       "    // offset() returns the position of the element relative to the document\n",
       "    var x = e.pageX - $(targ).offset().left;\n",
       "    var y = e.pageY - $(targ).offset().top;\n",
       "\n",
       "    return {\"x\": x, \"y\": y};\n",
       "};\n",
       "\n",
       "/*\n",
       " * return a copy of an object with only non-object keys\n",
       " * we need this to avoid circular references\n",
       " * http://stackoverflow.com/a/24161582/3208463\n",
       " */\n",
       "function simpleKeys (original) {\n",
       "  return Object.keys(original).reduce(function (obj, key) {\n",
       "    if (typeof original[key] !== 'object')\n",
       "        obj[key] = original[key]\n",
       "    return obj;\n",
       "  }, {});\n",
       "}\n",
       "\n",
       "mpl.figure.prototype.mouse_event = function(event, name) {\n",
       "    var canvas_pos = mpl.findpos(event)\n",
       "\n",
       "    if (name === 'button_press')\n",
       "    {\n",
       "        this.canvas.focus();\n",
       "        this.canvas_div.focus();\n",
       "    }\n",
       "\n",
       "    var x = canvas_pos.x * mpl.ratio;\n",
       "    var y = canvas_pos.y * mpl.ratio;\n",
       "\n",
       "    this.send_message(name, {x: x, y: y, button: event.button,\n",
       "                             step: event.step,\n",
       "                             guiEvent: simpleKeys(event)});\n",
       "\n",
       "    /* This prevents the web browser from automatically changing to\n",
       "     * the text insertion cursor when the button is pressed.  We want\n",
       "     * to control all of the cursor setting manually through the\n",
       "     * 'cursor' event from matplotlib */\n",
       "    event.preventDefault();\n",
       "    return false;\n",
       "}\n",
       "\n",
       "mpl.figure.prototype._key_event_extra = function(event, name) {\n",
       "    // Handle any extra behaviour associated with a key event\n",
       "}\n",
       "\n",
       "mpl.figure.prototype.key_event = function(event, name) {\n",
       "\n",
       "    // Prevent repeat events\n",
       "    if (name == 'key_press')\n",
       "    {\n",
       "        if (event.which === this._key)\n",
       "            return;\n",
       "        else\n",
       "            this._key = event.which;\n",
       "    }\n",
       "    if (name == 'key_release')\n",
       "        this._key = null;\n",
       "\n",
       "    var value = '';\n",
       "    if (event.ctrlKey && event.which != 17)\n",
       "        value += \"ctrl+\";\n",
       "    if (event.altKey && event.which != 18)\n",
       "        value += \"alt+\";\n",
       "    if (event.shiftKey && event.which != 16)\n",
       "        value += \"shift+\";\n",
       "\n",
       "    value += 'k';\n",
       "    value += event.which.toString();\n",
       "\n",
       "    this._key_event_extra(event, name);\n",
       "\n",
       "    this.send_message(name, {key: value,\n",
       "                             guiEvent: simpleKeys(event)});\n",
       "    return false;\n",
       "}\n",
       "\n",
       "mpl.figure.prototype.toolbar_button_onclick = function(name) {\n",
       "    if (name == 'download') {\n",
       "        this.handle_save(this, null);\n",
       "    } else {\n",
       "        this.send_message(\"toolbar_button\", {name: name});\n",
       "    }\n",
       "};\n",
       "\n",
       "mpl.figure.prototype.toolbar_button_onmouseover = function(tooltip) {\n",
       "    this.message.textContent = tooltip;\n",
       "};\n",
       "mpl.toolbar_items = [[\"Home\", \"Reset original view\", \"fa fa-home icon-home\", \"home\"], [\"Back\", \"Back to  previous view\", \"fa fa-arrow-left icon-arrow-left\", \"back\"], [\"Forward\", \"Forward to next view\", \"fa fa-arrow-right icon-arrow-right\", \"forward\"], [\"\", \"\", \"\", \"\"], [\"Pan\", \"Pan axes with left mouse, zoom with right\", \"fa fa-arrows icon-move\", \"pan\"], [\"Zoom\", \"Zoom to rectangle\", \"fa fa-square-o icon-check-empty\", \"zoom\"], [\"\", \"\", \"\", \"\"], [\"Download\", \"Download plot\", \"fa fa-floppy-o icon-save\", \"download\"]];\n",
       "\n",
       "mpl.extensions = [\"eps\", \"jpeg\", \"pdf\", \"png\", \"ps\", \"raw\", \"svg\", \"tif\"];\n",
       "\n",
       "mpl.default_extension = \"png\";var comm_websocket_adapter = function(comm) {\n",
       "    // Create a \"websocket\"-like object which calls the given IPython comm\n",
       "    // object with the appropriate methods. Currently this is a non binary\n",
       "    // socket, so there is still some room for performance tuning.\n",
       "    var ws = {};\n",
       "\n",
       "    ws.close = function() {\n",
       "        comm.close()\n",
       "    };\n",
       "    ws.send = function(m) {\n",
       "        //console.log('sending', m);\n",
       "        comm.send(m);\n",
       "    };\n",
       "    // Register the callback with on_msg.\n",
       "    comm.on_msg(function(msg) {\n",
       "        //console.log('receiving', msg['content']['data'], msg);\n",
       "        // Pass the mpl event to the overriden (by mpl) onmessage function.\n",
       "        ws.onmessage(msg['content']['data'])\n",
       "    });\n",
       "    return ws;\n",
       "}\n",
       "\n",
       "mpl.mpl_figure_comm = function(comm, msg) {\n",
       "    // This is the function which gets called when the mpl process\n",
       "    // starts-up an IPython Comm through the \"matplotlib\" channel.\n",
       "\n",
       "    var id = msg.content.data.id;\n",
       "    // Get hold of the div created by the display call when the Comm\n",
       "    // socket was opened in Python.\n",
       "    var element = $(\"#\" + id);\n",
       "    var ws_proxy = comm_websocket_adapter(comm)\n",
       "\n",
       "    function ondownload(figure, format) {\n",
       "        window.open(figure.imageObj.src);\n",
       "    }\n",
       "\n",
       "    var fig = new mpl.figure(id, ws_proxy,\n",
       "                           ondownload,\n",
       "                           element.get(0));\n",
       "\n",
       "    // Call onopen now - mpl needs it, as it is assuming we've passed it a real\n",
       "    // web socket which is closed, not our websocket->open comm proxy.\n",
       "    ws_proxy.onopen();\n",
       "\n",
       "    fig.parent_element = element.get(0);\n",
       "    fig.cell_info = mpl.find_output_cell(\"<div id='\" + id + \"'></div>\");\n",
       "    if (!fig.cell_info) {\n",
       "        console.error(\"Failed to find cell for figure\", id, fig);\n",
       "        return;\n",
       "    }\n",
       "\n",
       "    var output_index = fig.cell_info[2]\n",
       "    var cell = fig.cell_info[0];\n",
       "\n",
       "};\n",
       "\n",
       "mpl.figure.prototype.handle_close = function(fig, msg) {\n",
       "    var width = fig.canvas.width/mpl.ratio\n",
       "    fig.root.unbind('remove')\n",
       "\n",
       "    // Update the output cell to use the data from the current canvas.\n",
       "    fig.push_to_output();\n",
       "    var dataURL = fig.canvas.toDataURL();\n",
       "    // Re-enable the keyboard manager in IPython - without this line, in FF,\n",
       "    // the notebook keyboard shortcuts fail.\n",
       "    IPython.keyboard_manager.enable()\n",
       "    $(fig.parent_element).html('<img src=\"' + dataURL + '\" width=\"' + width + '\">');\n",
       "    fig.close_ws(fig, msg);\n",
       "}\n",
       "\n",
       "mpl.figure.prototype.close_ws = function(fig, msg){\n",
       "    fig.send_message('closing', msg);\n",
       "    // fig.ws.close()\n",
       "}\n",
       "\n",
       "mpl.figure.prototype.push_to_output = function(remove_interactive) {\n",
       "    // Turn the data on the canvas into data in the output cell.\n",
       "    var width = this.canvas.width/mpl.ratio\n",
       "    var dataURL = this.canvas.toDataURL();\n",
       "    this.cell_info[1]['text/html'] = '<img src=\"' + dataURL + '\" width=\"' + width + '\">';\n",
       "}\n",
       "\n",
       "mpl.figure.prototype.updated_canvas_event = function() {\n",
       "    // Tell IPython that the notebook contents must change.\n",
       "    IPython.notebook.set_dirty(true);\n",
       "    this.send_message(\"ack\", {});\n",
       "    var fig = this;\n",
       "    // Wait a second, then push the new image to the DOM so\n",
       "    // that it is saved nicely (might be nice to debounce this).\n",
       "    setTimeout(function () { fig.push_to_output() }, 1000);\n",
       "}\n",
       "\n",
       "mpl.figure.prototype._init_toolbar = function() {\n",
       "    var fig = this;\n",
       "\n",
       "    var nav_element = $('<div/>')\n",
       "    nav_element.attr('style', 'width: 100%');\n",
       "    this.root.append(nav_element);\n",
       "\n",
       "    // Define a callback function for later on.\n",
       "    function toolbar_event(event) {\n",
       "        return fig.toolbar_button_onclick(event['data']);\n",
       "    }\n",
       "    function toolbar_mouse_event(event) {\n",
       "        return fig.toolbar_button_onmouseover(event['data']);\n",
       "    }\n",
       "\n",
       "    for(var toolbar_ind in mpl.toolbar_items){\n",
       "        var name = mpl.toolbar_items[toolbar_ind][0];\n",
       "        var tooltip = mpl.toolbar_items[toolbar_ind][1];\n",
       "        var image = mpl.toolbar_items[toolbar_ind][2];\n",
       "        var method_name = mpl.toolbar_items[toolbar_ind][3];\n",
       "\n",
       "        if (!name) { continue; };\n",
       "\n",
       "        var button = $('<button class=\"btn btn-default\" href=\"#\" title=\"' + name + '\"><i class=\"fa ' + image + ' fa-lg\"></i></button>');\n",
       "        button.click(method_name, toolbar_event);\n",
       "        button.mouseover(tooltip, toolbar_mouse_event);\n",
       "        nav_element.append(button);\n",
       "    }\n",
       "\n",
       "    // Add the status bar.\n",
       "    var status_bar = $('<span class=\"mpl-message\" style=\"text-align:right; float: right;\"/>');\n",
       "    nav_element.append(status_bar);\n",
       "    this.message = status_bar[0];\n",
       "\n",
       "    // Add the close button to the window.\n",
       "    var buttongrp = $('<div class=\"btn-group inline pull-right\"></div>');\n",
       "    var button = $('<button class=\"btn btn-mini btn-primary\" href=\"#\" title=\"Stop Interaction\"><i class=\"fa fa-power-off icon-remove icon-large\"></i></button>');\n",
       "    button.click(function (evt) { fig.handle_close(fig, {}); } );\n",
       "    button.mouseover('Stop Interaction', toolbar_mouse_event);\n",
       "    buttongrp.append(button);\n",
       "    var titlebar = this.root.find($('.ui-dialog-titlebar'));\n",
       "    titlebar.prepend(buttongrp);\n",
       "}\n",
       "\n",
       "mpl.figure.prototype._root_extra_style = function(el){\n",
       "    var fig = this\n",
       "    el.on(\"remove\", function(){\n",
       "\tfig.close_ws(fig, {});\n",
       "    });\n",
       "}\n",
       "\n",
       "mpl.figure.prototype._canvas_extra_style = function(el){\n",
       "    // this is important to make the div 'focusable\n",
       "    el.attr('tabindex', 0)\n",
       "    // reach out to IPython and tell the keyboard manager to turn it's self\n",
       "    // off when our div gets focus\n",
       "\n",
       "    // location in version 3\n",
       "    if (IPython.notebook.keyboard_manager) {\n",
       "        IPython.notebook.keyboard_manager.register_events(el);\n",
       "    }\n",
       "    else {\n",
       "        // location in version 2\n",
       "        IPython.keyboard_manager.register_events(el);\n",
       "    }\n",
       "\n",
       "}\n",
       "\n",
       "mpl.figure.prototype._key_event_extra = function(event, name) {\n",
       "    var manager = IPython.notebook.keyboard_manager;\n",
       "    if (!manager)\n",
       "        manager = IPython.keyboard_manager;\n",
       "\n",
       "    // Check for shift+enter\n",
       "    if (event.shiftKey && event.which == 13) {\n",
       "        this.canvas_div.blur();\n",
       "        event.shiftKey = false;\n",
       "        // Send a \"J\" for go to next cell\n",
       "        event.which = 74;\n",
       "        event.keyCode = 74;\n",
       "        manager.command_mode();\n",
       "        manager.handle_keydown(event);\n",
       "    }\n",
       "}\n",
       "\n",
       "mpl.figure.prototype.handle_save = function(fig, msg) {\n",
       "    fig.ondownload(fig, null);\n",
       "}\n",
       "\n",
       "\n",
       "mpl.find_output_cell = function(html_output) {\n",
       "    // Return the cell and output element which can be found *uniquely* in the notebook.\n",
       "    // Note - this is a bit hacky, but it is done because the \"notebook_saving.Notebook\"\n",
       "    // IPython event is triggered only after the cells have been serialised, which for\n",
       "    // our purposes (turning an active figure into a static one), is too late.\n",
       "    var cells = IPython.notebook.get_cells();\n",
       "    var ncells = cells.length;\n",
       "    for (var i=0; i<ncells; i++) {\n",
       "        var cell = cells[i];\n",
       "        if (cell.cell_type === 'code'){\n",
       "            for (var j=0; j<cell.output_area.outputs.length; j++) {\n",
       "                var data = cell.output_area.outputs[j];\n",
       "                if (data.data) {\n",
       "                    // IPython >= 3 moved mimebundle to data attribute of output\n",
       "                    data = data.data;\n",
       "                }\n",
       "                if (data['text/html'] == html_output) {\n",
       "                    return [cell, data, j];\n",
       "                }\n",
       "            }\n",
       "        }\n",
       "    }\n",
       "}\n",
       "\n",
       "// Register the function which deals with the matplotlib target/channel.\n",
       "// The kernel may be null if the page has been refreshed.\n",
       "if (IPython.notebook.kernel != null) {\n",
       "    IPython.notebook.kernel.comm_manager.register_target('matplotlib', mpl.mpl_figure_comm);\n",
       "}\n"
      ],
      "text/plain": [
       "<IPython.core.display.Javascript object>"
      ]
     },
     "metadata": {},
     "output_type": "display_data"
    },
    {
     "data": {
      "text/html": [
       "<img src=\"data:image/png;base64,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\" width=\"500\">"
      ],
      "text/plain": [
       "<IPython.core.display.HTML object>"
      ]
     },
     "metadata": {},
     "output_type": "display_data"
    }
   ],
   "source": [
    "# Get latent vector for start and end, and compute diff\n",
    "z_start = get_z(X_train[start_idx:start_idx+1], latent_dim)\n",
    "z_end = get_z(X_train[end_idx:end_idx+1], latent_dim)\n",
    "z_diff = z_end - z_start\n",
    "\n",
    "# setup plot\n",
    "nb_frames = 50\n",
    "fig, ax = plt.subplots(dpi=100, figsize=(5, 4))\n",
    "im = ax.imshow(X_train[start_idx].reshape(img_shape[:-1]), cmap='gray')\n",
    "plt.axis('off')\n",
    "\n",
    "def animate(i, z_start, z_diff, nb_frames):\n",
    "    z_start += z_diff/nb_frames\n",
    "    im.set_data(decoder.predict(z_start).reshape(img_shape[:-1]))\n",
    "\n",
    "ani = animation.FuncAnimation(fig, animate, frames=nb_frames, interval=100, \n",
    "                              fargs=[z_start, z_diff, nb_frames])"
   ]
  },
  {
   "cell_type": "code",
   "execution_count": null,
   "metadata": {},
   "outputs": [],
   "source": []
  }
 ],
 "metadata": {
  "anaconda-cloud": {},
  "kernelspec": {
   "display_name": "Python [conda env:image-processing]",
   "language": "python",
   "name": "conda-env-image-processing-py"
  },
  "language_info": {
   "codemirror_mode": {
    "name": "ipython",
    "version": 3
   },
   "file_extension": ".py",
   "mimetype": "text/x-python",
   "name": "python",
   "nbconvert_exporter": "python",
   "pygments_lexer": "ipython3",
   "version": "3.6.3"
  },
  "toc": {
   "nav_menu": {
    "height": "67px",
    "width": "252px"
   },
   "number_sections": true,
   "sideBar": true,
   "skip_h1_title": false,
   "toc_cell": false,
   "toc_position": {
    "height": "908px",
    "left": "0px",
    "right": "1669px",
    "top": "87px",
    "width": "251px"
   },
   "toc_section_display": "block",
   "toc_window_display": true
  }
 },
 "nbformat": 4,
 "nbformat_minor": 1
}
